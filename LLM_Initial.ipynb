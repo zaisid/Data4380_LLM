{
 "cells": [
  {
   "cell_type": "code",
   "execution_count": 1,
   "id": "ca89ba94-8687-427b-9c2b-82df03556bfc",
   "metadata": {},
   "outputs": [
    {
     "name": "stderr",
     "output_type": "stream",
     "text": [
      "/opt/anaconda3/lib/python3.12/site-packages/pydantic/_internal/_fields.py:184: UserWarning: Field name \"name\" shadows an attribute in parent \"Operation\"; \n",
      "  warnings.warn(\n",
      "/opt/anaconda3/lib/python3.12/site-packages/pydantic/_internal/_fields.py:184: UserWarning: Field name \"metadata\" shadows an attribute in parent \"Operation\"; \n",
      "  warnings.warn(\n",
      "/opt/anaconda3/lib/python3.12/site-packages/pydantic/_internal/_fields.py:184: UserWarning: Field name \"done\" shadows an attribute in parent \"Operation\"; \n",
      "  warnings.warn(\n",
      "/opt/anaconda3/lib/python3.12/site-packages/pydantic/_internal/_fields.py:184: UserWarning: Field name \"error\" shadows an attribute in parent \"Operation\"; \n",
      "  warnings.warn(\n"
     ]
    }
   ],
   "source": [
    "import pandas as pd\n",
    "import matplotlib.pyplot as plt\n",
    "import os\n",
    "from PIL import Image\n",
    "import random\n",
    "import matplotlib\n",
    "from matplotlib.patches import Rectangle,Circle,Polygon\n",
    "import matplotlib.colors as mcolors\n",
    "\n",
    "from google import genai\n",
    "\n",
    "import LLM_images as llm"
   ]
  },
  {
   "cell_type": "code",
   "execution_count": 57,
   "id": "7dbb13fc-2f68-4379-beae-2807a4eb49b7",
   "metadata": {},
   "outputs": [],
   "source": [
    "from LLM_images import get_response"
   ]
  },
  {
   "cell_type": "code",
   "execution_count": 5,
   "id": "966addbf-fa8c-4406-894a-94f097830a93",
   "metadata": {},
   "outputs": [
    {
     "name": "stdout",
     "output_type": "stream",
     "text": [
      "Help on module LLM_images:\n",
      "\n",
      "NAME\n",
      "    LLM_images\n",
      "\n",
      "FUNCTIONS\n",
      "    distance_formula(coord1, coord2)\n",
      "        Calculate distance given two tuples/coordinate points\n",
      "\n",
      "    generate_circle(r=0.3)\n",
      "        Generates circle; radius can be varied\n",
      "\n",
      "    generate_coord()\n",
      "        Outputs a tuple/coordinate point\n",
      "\n",
      "    generate_image(verb=False, max=5, l1=0.3, l2=0.18, path='/Users/zainabsiddiqui/Downloads/Data_Problems/LLM_Project/Data')\n",
      "        Fully generates image with random assortment of shapes & automatically saves figure; descriptive statement can be generated; shape sizes can be adjusted\n",
      "\n",
      "    generate_rectangle(w=0.5, h=0.35)\n",
      "        Generates rectangle; width/height can be varied\n",
      "\n",
      "    generate_triangle()\n",
      "        Generates triangle\n",
      "\n",
      "    get_response(image_path, show=True, model='gemma-3-27b-it', REQUEST='Identify and count the shapes in this image')\n",
      "\n",
      "    is_triangle(coord1, coord2, coord3)\n",
      "        Test if real triangle based on 3 points; Boolean output\n",
      "\n",
      "    multiple_shapes(ax, max=5, limit1=0.5, limit2=0.35, verbose=False)\n",
      "        Automatically generates multiple shapes and adds to given figure; can generate string counting each shape type (automatically set to False)\n",
      "\n",
      "    rand_count(max=5)\n",
      "        Returns random whole number; max can be varied\n",
      "\n",
      "    rand_small_num(limit=0.5)\n",
      "        Keeps random number under certain decimal value; automatically set to 0.5\n",
      "\n",
      "DATA\n",
      "    colors = ['b', 'g', 'r', 'c', 'm', 'y', 'k']\n",
      "\n",
      "FILE\n",
      "    /Users/zainabsiddiqui/Downloads/Data_Problems/LLM_Project/LLM_images.py\n",
      "\n",
      "\n"
     ]
    }
   ],
   "source": [
    "help(llm)"
   ]
  },
  {
   "cell_type": "code",
   "execution_count": 7,
   "id": "852393c6-7692-4e48-8cd2-b313b49af2a7",
   "metadata": {},
   "outputs": [],
   "source": [
    "data_dir = \"/Users/zainabsiddiqui/Downloads/Data_Problems/LLM_Project/Data\""
   ]
  },
  {
   "cell_type": "code",
   "execution_count": 9,
   "id": "5a1221ac-ddbd-421e-826b-4b6beb2be262",
   "metadata": {},
   "outputs": [],
   "source": [
    "client = genai.Client()"
   ]
  },
  {
   "cell_type": "code",
   "execution_count": 11,
   "id": "997d6165-40ce-49e1-8b8a-df5d3732cb96",
   "metadata": {},
   "outputs": [],
   "source": [
    "responses=pd.DataFrame(columns=[\"pic_id\",\"response\",\"score\",\"notes\"])"
   ]
  },
  {
   "cell_type": "code",
   "execution_count": 109,
   "id": "6a7d8ff9-80b9-4256-ab71-3c85812d6a98",
   "metadata": {},
   "outputs": [],
   "source": [
    "def avg(l):\n",
    "    for ind,tup in enumerate(l):\n",
    "        if isinstance(tup, tuple):\n",
    "            x,y = tup\n",
    "            l[ind] = min(x,y)/max(x,y)\n",
    "    return round(sum(l)/len(l),4)"
   ]
  },
  {
   "cell_type": "code",
   "execution_count": null,
   "id": "c3e37a72-15c0-40c9-a7fe-5e529c5ef2e4",
   "metadata": {},
   "outputs": [],
   "source": [
    "def weighted_score(predicted, expected):\n",
    "    shapes = set(predicted.keys()).union(expected.keys())\n",
    "    total_expected = sum(expected.values())\n",
    "    if total_expected == 0:\n",
    "        return 0.0\n",
    "    weighted_scores = []\n",
    "    for shape in shapes:\n",
    "        pred = predicted.get(shape, 0)\n",
    "        exp = expected.get(shape, 0)\n",
    "        if exp == 0 and pred > 0:\n",
    "            shape_score = 0  # hallucinated shape\n",
    "            weight = 0  # or penalize?\n",
    "        else:\n",
    "            shape_score = min(pred, exp) / max(pred, exp) if max(pred, exp) > 0 else 1\n",
    "            weight = exp / total_expected\n",
    "        weighted_scores.append(shape_score * weight)\n",
    "    return sum(weighted_scores)\n"
   ]
  },
  {
   "cell_type": "markdown",
   "id": "8fefb5c0-704a-4b50-9fcf-170b54f669f1",
   "metadata": {},
   "source": [
    "    Template:\n",
    "{\"pic_id\": ,\\\n",
    "    \"response\":,\\\n",
    "    \"score\":,\\\n",
    "    \"raw\":,\\\n",
    "    \"notes\":,\\\n",
    "    },\n",
    "    "
   ]
  },
  {
   "cell_type": "code",
   "execution_count": 43,
   "id": "27d4ccf5-9adb-4232-a381-a1526bcb545c",
   "metadata": {},
   "outputs": [],
   "source": [
    "old_data = [\n",
    "    {\"pic_id\": \"Format\",\n",
    "    \"response\":\"LLM given response\",\n",
    "    \"score\":\"calculated score of LLM's response\",\n",
    "    \"raw\":\"list of tuples (response,true); ordered [rect,circ,tri]\",\n",
    "    \"notes\":\"notes\",\n",
    "    },\n",
    "\n",
    "    \n",
    "    {\"pic_id\": \"test\",\n",
    "    \"response\":\"\"\"Here's a breakdown of the shapes in the image:\n",
    "\n",
    "*   **Circles:** There are 3 circles (blue, yellow, and turquoise).\n",
    "*   **Rectangle:** There is 1 rectangle (gray).\n",
    "\n",
    "**Total:** 4 shapes.\n",
    "\"\"\",\n",
    "    \"score\":1,\n",
    "     \"raw\":[(1,1),(3,3),(0,0)], #list of tuples (predicted,true)\n",
    "    \"notes\": \"1 rectangle, 3 circles; probably too simple composition\",\n",
    "    },\n",
    "    \n",
    "    \n",
    "    {\"pic_id\":\"test2\",\n",
    "    \"response\":\"\"\"Here's a breakdown of the shapes in the image and their counts:\n",
    "\n",
    "*   **Circles:** 4 (one gray, one yellow, one red, one blue)\n",
    "*   **Squares/Rectangles:** 6 (various colors)\n",
    "*   **Triangles:** 3 (one red inside a circle, two purple)\n",
    "\n",
    "**Total Shapes:** 13\n",
    "\"\"\",\n",
    "    \"score\":avg([\n",
    "        (5/6), #rectangles --> how to count/penalize \"hallucinated\" shapes?\n",
    "        (1/1), #circles\n",
    "        (3/5), #triangles\n",
    "    ]),\n",
    "     \"raw\":[(6,5),(4,4),(3,5)], \n",
    "    \"notes\":\"5 rectangles, 4 circles, 5 triangles; hallucinated rectangle\",\n",
    "    },\n",
    "\n",
    "    \n",
    "    {\"pic_id\": \"r3_c5_t2\",\n",
    "    \"response\":\"\"\"Here's a breakdown of the shapes in the image and their counts:\n",
    "\n",
    "*   **Circles:** 4 (3 green, 1 blue)\n",
    "*   **Triangles:** 2 (both turquoise/light blue)\n",
    "*   **Rectangles:** 3 (2 blue, 1 gray)\n",
    "\n",
    "So, in total, there are **9** shapes in the image.\n",
    "\"\"\",\n",
    "    \"score\":avg([\n",
    "        (3/3),\n",
    "        (4/5),\n",
    "        (2/2)\n",
    "    ]),\n",
    "     \"raw\": [(3,3),(4,5),(2,2)],\n",
    "    \"notes\":\"\"\"Incorrect triangle color, Missed a circle, Incorrect rectangle color(?)\"\"\",\n",
    "    },\n",
    "\n",
    "    \n",
    "    {\"pic_id\": \"r0_c1_t5\",\n",
    "    \"response\":\"\"\"Here's a breakdown of the shapes in the image and their counts:\n",
    "\n",
    "*   **Triangles:** 8\n",
    "*   **Circles:** 1\n",
    "\n",
    "Therefore, there are a total of **9** shapes in the image.\n",
    "\"\"\",\n",
    "    \"score\":avg([\n",
    "        (1/1),\n",
    "        (5/8)\n",
    "    ]),\n",
    "     \"raw\": [(0,0),(1,1),(8,5)],\n",
    "    \"notes\":\"May be counting subsections created by overlapping shapes?\",\n",
    "    },\n",
    "\n",
    "\n",
    "    {\"pic_id\": \"r3_c2_t3\",\n",
    "    \"response\":\"\"\"Here's a breakdown of the shapes identified in the image and their counts:\n",
    "\n",
    "*   **Circles:** 3\n",
    "*   **Squares/Rectangles:** 3\n",
    "*   **Triangles:** 3\n",
    "\n",
    "**Total Shapes:** 9\n",
    "\"\"\",\n",
    "    \"score\":avg([\n",
    "        (3/3),\n",
    "        (2/3),\n",
    "        (3/3)\n",
    "    ]),\n",
    "     \"raw\": [(3,3),(2,3),(3,3)],\n",
    "    \"notes\":\"Wrong number of circles\",\n",
    "    },\n",
    "\n",
    "\n",
    "    {\"pic_id\": \"r2_c6_t0\",\n",
    "    \"response\":\"\"\"Here's a breakdown of the shapes identified in the image and their counts:\n",
    "\n",
    "*   **Circles:** 6\n",
    "*   **Squares/Rectangles:** 3\n",
    "\n",
    "**Total Shapes:** 9\n",
    "\"\"\",\n",
    "    \"score\":avg([\n",
    "        (2/3),\n",
    "        (6/6)\n",
    "    ]),\n",
    "     \"raw\": [(3,2),(6,6),(0,0)],\n",
    "    \"notes\":\"Incorrect number of rectangles\",\n",
    "    },\n",
    "\n",
    "    \n",
    "    {\"pic_id\": \"r4_c4_t3\",\n",
    "    \"response\":\"\"\"Here's a breakdown of the shapes in the image and their counts:\n",
    "\n",
    "*   **Triangles:** 3\n",
    "*   **Rectangles:** 4\n",
    "*   **Circles:** 3\n",
    "\n",
    "So, there are a total of **10** shapes in the image.\n",
    "\"\"\",\n",
    "    \"score\":avg([\n",
    "        (4/4),\n",
    "        (3/4),\n",
    "        (3/3)\n",
    "    ]) ,\n",
    "     \"raw\": [(4,4),(3,4),(3,3)],\n",
    "    \"notes\":\"Missed a circle\",\n",
    "    },\n",
    "\n",
    "\n",
    "    {\"pic_id\": \"r8_c5_t1\",\n",
    "    \"response\":\"\"\"Here's a breakdown of the shapes in the image and their counts:\n",
    "\n",
    "*   **Circles:** 6\n",
    "*   **Rectangles:** 5\n",
    "*   **Triangles:** 2\n",
    "*   **Lines:** 1\n",
    "\n",
    "**Total Shapes:** 14\n",
    "\"\"\",\n",
    "    \"score\": avg([\n",
    "                (6/8), #counting \"line\" as rectangle\n",
    "                (5/6),\n",
    "                (1/2)\n",
    "    ]),\n",
    "     \"raw\":[(6,8),(5,6),(2,1)],\n",
    "    \"notes\":\"counting 'line' as rectangle in score\",\n",
    "    },\n",
    "\n",
    "\n",
    "    {\"pic_id\": \"r4_c6_t4\",\n",
    "    \"response\":\"\"\"Here's a breakdown of the shapes in the image and their counts:\n",
    "\n",
    "*   **Circles:** 4 (blue, green, pink, and a dark grey/black)\n",
    "*   **Squares/Rectangles:** 3 (a light blue square, a dark grey/black square, and a light yellow rectangle)\n",
    "*   **Triangles:** 3 (two green triangles and a blue triangle)\n",
    "\n",
    "**Total Shapes:** 10\n",
    "\"\"\",\n",
    "    \"score\": avg([(3/4),\n",
    "                  (4/6),\n",
    "                  (3/4)\n",
    "                 ]),\n",
    "    \"raw\": [(3,4),(4,6),(3,4)],\n",
    "    \"notes\": \"Wrong on all counts\",\n",
    "    },\n",
    "\n",
    "    \n",
    "    {\"pic_id\": \"r6_c6_t0\",\n",
    "    \"response\":\"\"\"Here's a breakdown of the shapes in the image and their counts:\n",
    "\n",
    "*   **Circles:** 4 (red, green, yellow, and a partially overlapping light blue/yellow)\n",
    "*   **Squares:** 3 (orange, light blue, and a small purple)\n",
    "*   **Rectangles:** 2 (yellow and purple)\n",
    "*   **Small Square:** 1 (teal)\n",
    "\n",
    "**Total Shapes:** 10\n",
    "\"\"\",\n",
    "    \"score\": avg([(6/6),(4/5)]),\n",
    "    \"raw\": [(6,6),(4,5),(0,0)],\n",
    "    \"notes\": \"image labelled incorrectly, there are 5 circles; counting squares as rectangles\",\n",
    "    },\n",
    "    \n",
    "]"
   ]
  },
  {
   "cell_type": "code",
   "execution_count": 45,
   "id": "b5c10771-0090-4f8e-bf3f-cd189b1d0d49",
   "metadata": {},
   "outputs": [],
   "source": [
    "responses = pd.DataFrame(old_data)"
   ]
  },
  {
   "cell_type": "code",
   "execution_count": 49,
   "id": "253ce57a-39bc-4de9-9f29-e52bae090fd2",
   "metadata": {},
   "outputs": [
    {
     "data": {
      "text/html": [
       "<div>\n",
       "<style scoped>\n",
       "    .dataframe tbody tr th:only-of-type {\n",
       "        vertical-align: middle;\n",
       "    }\n",
       "\n",
       "    .dataframe tbody tr th {\n",
       "        vertical-align: top;\n",
       "    }\n",
       "\n",
       "    .dataframe thead th {\n",
       "        text-align: right;\n",
       "    }\n",
       "</style>\n",
       "<table border=\"1\" class=\"dataframe\">\n",
       "  <thead>\n",
       "    <tr style=\"text-align: right;\">\n",
       "      <th></th>\n",
       "      <th>pic_id</th>\n",
       "      <th>response</th>\n",
       "      <th>score</th>\n",
       "      <th>raw</th>\n",
       "      <th>notes</th>\n",
       "    </tr>\n",
       "  </thead>\n",
       "  <tbody>\n",
       "    <tr>\n",
       "      <th>0</th>\n",
       "      <td>Format</td>\n",
       "      <td>LLM given response</td>\n",
       "      <td>calculated score of LLM's response</td>\n",
       "      <td>list of tuples (response,true); ordered [rect,...</td>\n",
       "      <td>notes</td>\n",
       "    </tr>\n",
       "    <tr>\n",
       "      <th>1</th>\n",
       "      <td>test</td>\n",
       "      <td>Here's a breakdown of the shapes in the image:...</td>\n",
       "      <td>1</td>\n",
       "      <td>[(1, 1), (3, 3), (0, 0)]</td>\n",
       "      <td>1 rectangle, 3 circles; probably too simple co...</td>\n",
       "    </tr>\n",
       "    <tr>\n",
       "      <th>2</th>\n",
       "      <td>test2</td>\n",
       "      <td>Here's a breakdown of the shapes in the image ...</td>\n",
       "      <td>0.8111</td>\n",
       "      <td>[(6, 5), (4, 4), (3, 5)]</td>\n",
       "      <td>5 rectangles, 4 circles, 5 triangles; hallucin...</td>\n",
       "    </tr>\n",
       "    <tr>\n",
       "      <th>3</th>\n",
       "      <td>r3_c5_t2</td>\n",
       "      <td>Here's a breakdown of the shapes in the image ...</td>\n",
       "      <td>0.9333</td>\n",
       "      <td>[(3, 3), (4, 5), (2, 2)]</td>\n",
       "      <td>Incorrect triangle color, Missed a circle, Inc...</td>\n",
       "    </tr>\n",
       "    <tr>\n",
       "      <th>4</th>\n",
       "      <td>r0_c1_t5</td>\n",
       "      <td>Here's a breakdown of the shapes in the image ...</td>\n",
       "      <td>0.8125</td>\n",
       "      <td>[(0, 0), (1, 1), (8, 5)]</td>\n",
       "      <td>May be counting subsections created by overlap...</td>\n",
       "    </tr>\n",
       "    <tr>\n",
       "      <th>5</th>\n",
       "      <td>r3_c2_t3</td>\n",
       "      <td>Here's a breakdown of the shapes identified in...</td>\n",
       "      <td>0.8889</td>\n",
       "      <td>[(3, 3), (2, 3), (3, 3)]</td>\n",
       "      <td>Wrong number of circles</td>\n",
       "    </tr>\n",
       "    <tr>\n",
       "      <th>6</th>\n",
       "      <td>r2_c6_t0</td>\n",
       "      <td>Here's a breakdown of the shapes identified in...</td>\n",
       "      <td>0.8333</td>\n",
       "      <td>[(3, 2), (6, 6), (0, 0)]</td>\n",
       "      <td>Incorrect number of rectangles</td>\n",
       "    </tr>\n",
       "    <tr>\n",
       "      <th>7</th>\n",
       "      <td>r4_c4_t3</td>\n",
       "      <td>Here's a breakdown of the shapes in the image ...</td>\n",
       "      <td>0.9167</td>\n",
       "      <td>[(4, 4), (3, 4), (3, 3)]</td>\n",
       "      <td>Missed a circle</td>\n",
       "    </tr>\n",
       "    <tr>\n",
       "      <th>8</th>\n",
       "      <td>r8_c5_t1</td>\n",
       "      <td>Here's a breakdown of the shapes in the image ...</td>\n",
       "      <td>0.6944</td>\n",
       "      <td>[(6, 8), (5, 6), (2, 1)]</td>\n",
       "      <td>counting 'line' as rectangle in score</td>\n",
       "    </tr>\n",
       "    <tr>\n",
       "      <th>9</th>\n",
       "      <td>r4_c6_t4</td>\n",
       "      <td>Here's a breakdown of the shapes in the image ...</td>\n",
       "      <td>0.7222</td>\n",
       "      <td>[(3, 4), (4, 6), (3, 4)]</td>\n",
       "      <td>Wrong on all counts</td>\n",
       "    </tr>\n",
       "    <tr>\n",
       "      <th>10</th>\n",
       "      <td>r6_c6_t0</td>\n",
       "      <td>Here's a breakdown of the shapes in the image ...</td>\n",
       "      <td>0.9</td>\n",
       "      <td>[(6, 6), (4, 5), (0, 0)]</td>\n",
       "      <td>image labelled incorrectly, there are 5 circle...</td>\n",
       "    </tr>\n",
       "  </tbody>\n",
       "</table>\n",
       "</div>"
      ],
      "text/plain": [
       "      pic_id                                           response  \\\n",
       "0     Format                                 LLM given response   \n",
       "1       test  Here's a breakdown of the shapes in the image:...   \n",
       "2      test2  Here's a breakdown of the shapes in the image ...   \n",
       "3   r3_c5_t2  Here's a breakdown of the shapes in the image ...   \n",
       "4   r0_c1_t5  Here's a breakdown of the shapes in the image ...   \n",
       "5   r3_c2_t3  Here's a breakdown of the shapes identified in...   \n",
       "6   r2_c6_t0  Here's a breakdown of the shapes identified in...   \n",
       "7   r4_c4_t3  Here's a breakdown of the shapes in the image ...   \n",
       "8   r8_c5_t1  Here's a breakdown of the shapes in the image ...   \n",
       "9   r4_c6_t4  Here's a breakdown of the shapes in the image ...   \n",
       "10  r6_c6_t0  Here's a breakdown of the shapes in the image ...   \n",
       "\n",
       "                                 score  \\\n",
       "0   calculated score of LLM's response   \n",
       "1                                    1   \n",
       "2                               0.8111   \n",
       "3                               0.9333   \n",
       "4                               0.8125   \n",
       "5                               0.8889   \n",
       "6                               0.8333   \n",
       "7                               0.9167   \n",
       "8                               0.6944   \n",
       "9                               0.7222   \n",
       "10                                 0.9   \n",
       "\n",
       "                                                  raw  \\\n",
       "0   list of tuples (response,true); ordered [rect,...   \n",
       "1                            [(1, 1), (3, 3), (0, 0)]   \n",
       "2                            [(6, 5), (4, 4), (3, 5)]   \n",
       "3                            [(3, 3), (4, 5), (2, 2)]   \n",
       "4                            [(0, 0), (1, 1), (8, 5)]   \n",
       "5                            [(3, 3), (2, 3), (3, 3)]   \n",
       "6                            [(3, 2), (6, 6), (0, 0)]   \n",
       "7                            [(4, 4), (3, 4), (3, 3)]   \n",
       "8                            [(6, 8), (5, 6), (2, 1)]   \n",
       "9                            [(3, 4), (4, 6), (3, 4)]   \n",
       "10                           [(6, 6), (4, 5), (0, 0)]   \n",
       "\n",
       "                                                notes  \n",
       "0                                               notes  \n",
       "1   1 rectangle, 3 circles; probably too simple co...  \n",
       "2   5 rectangles, 4 circles, 5 triangles; hallucin...  \n",
       "3   Incorrect triangle color, Missed a circle, Inc...  \n",
       "4   May be counting subsections created by overlap...  \n",
       "5                             Wrong number of circles  \n",
       "6                      Incorrect number of rectangles  \n",
       "7                                     Missed a circle  \n",
       "8               counting 'line' as rectangle in score  \n",
       "9                                 Wrong on all counts  \n",
       "10  image labelled incorrectly, there are 5 circle...  "
      ]
     },
     "execution_count": 49,
     "metadata": {},
     "output_type": "execute_result"
    }
   ],
   "source": [
    "responses"
   ]
  },
  {
   "cell_type": "code",
   "execution_count": 59,
   "id": "3a8ffdce-7134-4a71-bf43-6bc6c0bc2d5a",
   "metadata": {},
   "outputs": [
    {
     "name": "stdout",
     "output_type": "stream",
     "text": [
      "\u001b[34mData\u001b[m\u001b[m/                       LLM_images.py\n",
      "Gemma_Model_Info.png        Untitled.ipynb\n",
      "LLM_Image_Generation.ipynb  Untitled1.ipynb\n",
      "LLM_Proposal_ZS.pdf         \u001b[34m__pycache__\u001b[m\u001b[m/\n",
      "LLM_Test_API.ipynb          ai_key.txt\n"
     ]
    }
   ],
   "source": [
    "ls"
   ]
  },
  {
   "cell_type": "code",
   "execution_count": 63,
   "id": "660528ba-c249-48f7-b2a7-b19b92fd9e10",
   "metadata": {},
   "outputs": [
    {
     "name": "stdout",
     "output_type": "stream",
     "text": [
      "\n",
      "import pandas as pd\n",
      "import matplotlib.pyplot as plt\n",
      "import os\n",
      "from PIL import Image\n",
      "import random\n",
      "import matplotlib\n",
      "from matplotlib.patches import Rectangle,Circle,Polygon\n",
      "import matplotlib.colors as mcolors\n",
      "\n",
      "from google import genai\n",
      "\n",
      "\n",
      "colors = list(mcolors.BASE_COLORS)\n",
      "colors.remove(\"w\")\n",
      "\n",
      "def generate_coord():\n",
      "    \"Outputs a tuple/coordinate point\"\n",
      "    return (rand_num(),rand_num()) #tuple\n",
      "\n",
      "def distance_formula(coord1,coord2):\n",
      "    \"Calculate distance given two tuples/coordinate points\"\n",
      "    x1,y1 = coord1\n",
      "    x2,y2 = coord2\n",
      "    dist = ( (x1-x2)**2 + (y1-y2)**2 )**0.5\n",
      "    return dist\n",
      "\n",
      "def is_triangle(coord1,coord2,coord3):\n",
      "    \"Test if real triangle based on 3 points; Boolean output\"\n",
      "    side1 = distance_formula(coord1,coord2)\n",
      "    side2 = distance_formula(coord3,coord2)\n",
      "    side3 = distance_formula(coord1,coord3)\n",
      "    if not (side1+side2>side3 and side1+side3>side1 and side2+side3>side1):\n",
      "        return False\n",
      "    if side1 == 0 or side2 == 0 or side3 == 0:\n",
      "        return False\n",
      "    else:\n",
      "        return True\n",
      "\n",
      "def rand_small_num(limit=0.5):\n",
      "    \"Keeps random number under certain decimal value; automatically set to 0.5\"\n",
      "    h = rand_num()\n",
      "    while h > limit:\n",
      "        h /= 2\n",
      "    return h\n",
      "\n",
      "def generate_rectangle(w=0.5,h=0.35):\n",
      "    \"Generates rectangle; width/height can be varied\"\n",
      "    return Rectangle(generate_coord(), \n",
      "                width=rand_small_num(w), \n",
      "                height=rand_small_num(h),\n",
      "                angle=rand_num()*10,\n",
      "                facecolor=rand_color(),\n",
      "                alpha=0.6\n",
      "                )\n",
      "\n",
      "def generate_circle(r=0.3):\n",
      "    \"Generates circle; radius can be varied\"\n",
      "    return Circle(generate_coord(),\n",
      "           radius=rand_small_num(r),\n",
      "           facecolor=rand_color(),\n",
      "           alpha=0.6\n",
      "           )\n",
      "\n",
      "def generate_triangle():\n",
      "    \"Generates triangle\"\n",
      "    valid_triangle = False\n",
      "    while not valid_triangle:\n",
      "        coord1,coord2,coord3 = generate_coord(),generate_coord(),generate_coord()\n",
      "        valid_triangle = is_triangle(coord1,coord2,coord3)\n",
      "    \n",
      "    return Polygon([coord1,\n",
      "           coord2,\n",
      "           coord3],\n",
      "           color=random.choice(colors),\n",
      "           alpha=0.6\n",
      "           )\n",
      "\n",
      "def rand_count(max=5):\n",
      "    \"Returns random whole number; max can be varied\"\n",
      "    return random.randint(0,max)\n",
      "\n",
      "\n",
      "def multiple_shapes(ax,max=5,limit1=0.5,limit2=0.35,verbose=False):\n",
      "    \"\"\"Automatically generates multiple shapes and adds to given figure; can generate string counting each shape type (automatically set to False)\"\"\"\n",
      "    #rectangles\n",
      "    counter = rand_count(max)\n",
      "    rect=counter\n",
      "    while counter > 0:\n",
      "        rectangle = generate_rectangle(limit1,limit2)\n",
      "        ax.add_patch(rectangle)\n",
      "        counter -= 1\n",
      "    \n",
      "    #circles\n",
      "    counter = rand_count(max)\n",
      "    circ=counter\n",
      "    while counter > 0:\n",
      "        circle = generate_circle(limit2)\n",
      "        ax.add_patch(circle)\n",
      "        counter -= 1\n",
      "    \n",
      "    #triangles\n",
      "    counter = rand_count(max)\n",
      "    tri=counter\n",
      "    while counter > 0:\n",
      "        triangle = generate_triangle()\n",
      "        ax.add_patch(triangle)\n",
      "        counter -= 1\n",
      "\n",
      "    if verbose:\n",
      "        return f\"There are {rect} rectangles, {circ} circles, and {tri} triangles in this image.\"\n",
      "    else:\n",
      "        return f\"r{rect}_c{circ}_t{tri}\"\n",
      "\n",
      "\n",
      "def generate_image(verb=False,max=5,l1=0.3,l2=0.18,path=\"/Users/zainabsiddiqui/Downloads/Data_Problems/LLM_Project/Data\"):\n",
      "    \"\"\"Fully generates image with random assortment of shapes & automatically saves figure; descriptive statement can be generated; shape sizes can be adjusted\"\"\"\n",
      "    fig = plt.figure(figsize=(6,6),\n",
      "                     #frameon=False\n",
      "                    )\n",
      "    ax = fig.add_subplot(1, 1, 1,\n",
      "                         xlim=(-0.2,1.2),\n",
      "                         ylim=(-0.2,1.2))\n",
      "    ax.axis('off')\n",
      "    description = multiple_shapes(ax,max,limit1=l1,limit2=l2,verbose=verb)\n",
      "\n",
      "    plt.show()\n",
      "    if verb:\n",
      "        print(description)\n",
      "    \n",
      "        #plt.show()\n",
      "    else:\n",
      "        #return description\n",
      "        save = input(f\"\"\"{description}\n",
      "\n",
      "Save figure?\n",
      "\"\"\").lower().strip()\n",
      "        if save == \"yes\":\n",
      "            fig_name = description+\".png\"\n",
      "            fig.savefig(f\"{path}/{fig_name}\")\n",
      "\n",
      "\n",
      "\n",
      "#LLM_Test_API.ipynb functions\n",
      "\n",
      "def get_response(image_path, show=True,\n",
      "                 model=\"gemma-3-27b-it\",\n",
      "                 REQUEST=\"Identify and count the shapes in this image\",):\n",
      "    image = Image.open(image_path)\n",
      "\n",
      "    response = client.models.generate_content(\n",
      "      model=model,\n",
      "      contents=[image, REQUEST],\n",
      "      )\n",
      "    \n",
      "    print(response.text) # The output often is markdown\n",
      "\n",
      "    #move image after it's tested\n",
      "    image_path_sep = image_path.split(\"/\") \n",
      "    new_path=\"\"\n",
      "    for dir in image_path_sep[:-1]:\n",
      "        new_path += f\"/{dir}\"\n",
      "\n",
      "    new_path+=f\"/Used/{image_path_sep[-1]}\"\n",
      "    \n",
      "    os.rename(image_path,new_path)\n",
      "\n",
      "    if show:\n",
      "        plt.figure(frameon=False)\n",
      "        plt.imshow(image)\n",
      "        plt.axis(False)\n",
      "        plt.show()\n",
      "\n"
     ]
    }
   ],
   "source": [
    "with open(\"LLM_images.py\",\"r\") as file:\n",
    "    text=file.read()\n",
    "    print(text)"
   ]
  },
  {
   "cell_type": "code",
   "execution_count": 225,
   "id": "15c03d71-3499-4faa-a6b4-d7a446e31ac4",
   "metadata": {},
   "outputs": [],
   "source": [
    "def new_get_response(image_path, show=True,\n",
    "                 model=\"gemma-3-27b-it\",\n",
    "                 REQUEST=\"Identify and count the shapes in this image\",):\n",
    "    image_id = image_path\n",
    "    image_path = f\"{data_dir}/{image_id}\"\n",
    "    image = Image.open(image_path)\n",
    "\n",
    "    response = client.models.generate_content(\n",
    "      model=model,\n",
    "      contents=[image, REQUEST],\n",
    "      )\n",
    "    \n",
    "    print(response.text) # The output often is markdown\n",
    "\n",
    "    #move image after it's tested\n",
    "    image_path_sep = image_path.split(\"/\") \n",
    "    \n",
    "    new_path=\"\"\n",
    "    for dir in image_path_sep[:-1]:\n",
    "        new_path += f\"/{dir}\"\n",
    "\n",
    "    new_path+=f\"/Used/{image_path_sep[-1]}\"\n",
    "    \n",
    "    os.rename(image_path,new_path)\n",
    "\n",
    "    if show:\n",
    "        plt.figure(frameon=False)\n",
    "        plt.imshow(image)\n",
    "        plt.axis(False)\n",
    "        plt.show()\n",
    "\n",
    "    \n",
    "    pic_id = image_path_sep[-1][:-4]\n",
    "    words = response.text\n",
    "    note = input()\n",
    "    responses = append_data(pic_id,words,note) ## !! Doesn't actually update DataFrame\n",
    "    \n",
    "    return responses"
   ]
  },
  {
   "cell_type": "code",
   "execution_count": 193,
   "id": "7a3638ce-c3ce-4c18-ac13-26711564acfc",
   "metadata": {},
   "outputs": [],
   "source": [
    "def append_data(id,response,notes):\n",
    "    new_row = {\"pic_id\": id,\n",
    "            \"response\": response,\n",
    "            \"score\": None,\n",
    "            \"raw\": None,\n",
    "            \"notes\":notes,\n",
    "            }\n",
    "    #df = pd.concat([df, pd.DataFrame([new_row])], ignore_index=True)\n",
    "\n",
    "    new_data.append(new_row)\n",
    "\n",
    "    df = pd.DataFrame(new_data)\n",
    "\n",
    "    return df"
   ]
  },
  {
   "cell_type": "code",
   "execution_count": 71,
   "id": "b4550df1-3a6a-4638-985c-d44b3872fce2",
   "metadata": {},
   "outputs": [
    {
     "data": {
      "text/plain": [
       "'/Users/zainabsiddiqui/Downloads/Data_Problems/LLM_Project/Data'"
      ]
     },
     "execution_count": 71,
     "metadata": {},
     "output_type": "execute_result"
    }
   ],
   "source": [
    "data_dir"
   ]
  },
  {
   "cell_type": "code",
   "execution_count": 87,
   "id": "7b959e2f-657f-4e09-a683-f4b000b3c540",
   "metadata": {},
   "outputs": [
    {
     "name": "stdout",
     "output_type": "stream",
     "text": [
      "\u001b[34mUsed\u001b[m\u001b[m         r1_c8_t0.png r2_c8_t4.png r4_c4_t5.png r5_c4_t5.png r7_c6_t3.png\n",
      "r0_c2_t7.png r2_c0_t7.png r3_c0_t4.png r4_c6_t2.png r5_c5_t4.png r7_c7_t0.png\n",
      "r0_c3_t4.png r2_c1_t3.png r3_c2_t5.png r4_c6_t4.png r5_c6_t1.png r8_c0_t3.png\n",
      "r0_c3_t7.png r2_c2_t5.png r3_c4_t4.png r4_c7_t1.png r5_c8_t3.png r8_c1_t2.png\n",
      "r0_c6_t3.png r2_c2_t7.png r3_c7_t7.png r4_c7_t4.png r6_c7_t2.png r8_c3_t3.png\n",
      "r0_c8_t5.png r2_c4_t2.png r4_c2_t5.png r4_c7_t5.png r7_c1_t2.png r8_c4_t4.png\n",
      "r1_c4_t6.png r2_c6_t2.png r4_c4_t2.png r5_c4_t0.png r7_c6_t2.png\n"
     ]
    }
   ],
   "source": [
    "! cd Data && ls "
   ]
  },
  {
   "cell_type": "code",
   "execution_count": 97,
   "id": "b02cd2d0-f5e4-4186-8e3a-11287234e75d",
   "metadata": {},
   "outputs": [
    {
     "name": "stdout",
     "output_type": "stream",
     "text": [
      "Here's a breakdown of the shapes in the image and their counts:\n",
      "\n",
      "*   **Triangles:** 6\n",
      "*   **Circles:** 2\n",
      "*   **Rectangles/Parallelograms:** 2 (one is a long, thin rectangle)\n",
      "\n",
      "So, in total, there are **10** shapes in the image.\n"
     ]
    },
    {
     "data": {
      "image/png": "[encoded data removed]",
      "text/plain": [
       "<Figure size 640x480 with 1 Axes>"
      ]
     },
     "metadata": {},
     "output_type": "display_data"
    },
    {
     "name": "stdin",
     "output_type": "stream",
     "text": [
      " Hallucinated 2 rectangles (negative space?), missed 1 triangle\n"
     ]
    }
   ],
   "source": [
    "new_get_response(\"r0_c2_t7.png\")"
   ]
  },
  {
   "cell_type": "code",
   "execution_count": 171,
   "id": "1c6e6d82-730b-421d-b66c-650966f796b8",
   "metadata": {
    "scrolled": true
   },
   "outputs": [
    {
     "data": {
      "text/plain": [
       "[{'pic_id': 'Format',\n",
       "  'response': 'LLM given response',\n",
       "  'score': \"calculated score of LLM's response\",\n",
       "  'raw': 'list of tuples (response,true); ordered [rect,circ,tri]',\n",
       "  'notes': 'notes'},\n",
       " {'pic_id': 'test',\n",
       "  'response': \"Here's a breakdown of the shapes in the image:\\n\\n*   **Circles:** There are 3 circles (blue, yellow, and turquoise).\\n*   **Rectangle:** There is 1 rectangle (gray).\\n\\n**Total:** 4 shapes.\\n\",\n",
       "  'score': 1,\n",
       "  'raw': [(1, 1), (3, 3), (0, 0)],\n",
       "  'notes': '1 rectangle, 3 circles; probably too simple composition'},\n",
       " {'pic_id': 'test2',\n",
       "  'response': \"Here's a breakdown of the shapes in the image and their counts:\\n\\n*   **Circles:** 4 (one gray, one yellow, one red, one blue)\\n*   **Squares/Rectangles:** 6 (various colors)\\n*   **Triangles:** 3 (one red inside a circle, two purple)\\n\\n**Total Shapes:** 13\\n\",\n",
       "  'score': 0.8111,\n",
       "  'raw': [(6, 5), (4, 4), (3, 5)],\n",
       "  'notes': '5 rectangles, 4 circles, 5 triangles; hallucinated rectangle'},\n",
       " {'pic_id': 'r3_c5_t2',\n",
       "  'response': \"Here's a breakdown of the shapes in the image and their counts:\\n\\n*   **Circles:** 4 (3 green, 1 blue)\\n*   **Triangles:** 2 (both turquoise/light blue)\\n*   **Rectangles:** 3 (2 blue, 1 gray)\\n\\nSo, in total, there are **9** shapes in the image.\\n\",\n",
       "  'score': 0.9333,\n",
       "  'raw': [(3, 3), (4, 5), (2, 2)],\n",
       "  'notes': 'Incorrect triangle color, Missed a circle, Incorrect rectangle color(?)'},\n",
       " {'pic_id': 'r0_c1_t5',\n",
       "  'response': \"Here's a breakdown of the shapes in the image and their counts:\\n\\n*   **Triangles:** 8\\n*   **Circles:** 1\\n\\nTherefore, there are a total of **9** shapes in the image.\\n\",\n",
       "  'score': 0.8125,\n",
       "  'raw': [(0, 0), (1, 1), (8, 5)],\n",
       "  'notes': 'May be counting subsections created by overlapping shapes?'},\n",
       " {'pic_id': 'r3_c2_t3',\n",
       "  'response': \"Here's a breakdown of the shapes identified in the image and their counts:\\n\\n*   **Circles:** 3\\n*   **Squares/Rectangles:** 3\\n*   **Triangles:** 3\\n\\n**Total Shapes:** 9\\n\",\n",
       "  'score': 0.8889,\n",
       "  'raw': [(3, 3), (2, 3), (3, 3)],\n",
       "  'notes': 'Wrong number of circles'},\n",
       " {'pic_id': 'r2_c6_t0',\n",
       "  'response': \"Here's a breakdown of the shapes identified in the image and their counts:\\n\\n*   **Circles:** 6\\n*   **Squares/Rectangles:** 3\\n\\n**Total Shapes:** 9\\n\",\n",
       "  'score': 0.8333,\n",
       "  'raw': [(3, 2), (6, 6), (0, 0)],\n",
       "  'notes': 'Incorrect number of rectangles'},\n",
       " {'pic_id': 'r4_c4_t3',\n",
       "  'response': \"Here's a breakdown of the shapes in the image and their counts:\\n\\n*   **Triangles:** 3\\n*   **Rectangles:** 4\\n*   **Circles:** 3\\n\\nSo, there are a total of **10** shapes in the image.\\n\",\n",
       "  'score': 0.9167,\n",
       "  'raw': [(4, 4), (3, 4), (3, 3)],\n",
       "  'notes': 'Missed a circle'},\n",
       " {'pic_id': 'r8_c5_t1',\n",
       "  'response': \"Here's a breakdown of the shapes in the image and their counts:\\n\\n*   **Circles:** 6\\n*   **Rectangles:** 5\\n*   **Triangles:** 2\\n*   **Lines:** 1\\n\\n**Total Shapes:** 14\\n\",\n",
       "  'score': 0.6944,\n",
       "  'raw': [(6, 8), (5, 6), (2, 1)],\n",
       "  'notes': \"counting 'line' as rectangle in score\"},\n",
       " {'pic_id': 'r4_c6_t4',\n",
       "  'response': \"Here's a breakdown of the shapes in the image and their counts:\\n\\n*   **Circles:** 4 (blue, green, pink, and a dark grey/black)\\n*   **Squares/Rectangles:** 3 (a light blue square, a dark grey/black square, and a light yellow rectangle)\\n*   **Triangles:** 3 (two green triangles and a blue triangle)\\n\\n**Total Shapes:** 10\\n\",\n",
       "  'score': 0.7222,\n",
       "  'raw': [(3, 4), (4, 6), (3, 4)],\n",
       "  'notes': 'Wrong on all counts'},\n",
       " {'pic_id': 'r6_c6_t0',\n",
       "  'response': \"Here's a breakdown of the shapes in the image and their counts:\\n\\n*   **Circles:** 4 (red, green, yellow, and a partially overlapping light blue/yellow)\\n*   **Squares:** 3 (orange, light blue, and a small purple)\\n*   **Rectangles:** 2 (yellow and purple)\\n*   **Small Square:** 1 (teal)\\n\\n**Total Shapes:** 10\\n\",\n",
       "  'score': 0.9,\n",
       "  'raw': [(6, 6), (4, 5), (0, 0)],\n",
       "  'notes': 'image labelled incorrectly, there are 5 circles; counting squares as rectangles'}]"
      ]
     },
     "execution_count": 171,
     "metadata": {},
     "output_type": "execute_result"
    }
   ],
   "source": [
    "new_data = old_data.copy()\n",
    "new_data"
   ]
  },
  {
   "cell_type": "code",
   "execution_count": 175,
   "id": "96d398c9-e255-424a-947d-4c631ec9f2fd",
   "metadata": {
    "scrolled": true
   },
   "outputs": [
    {
     "data": {
      "text/html": [
       "<div>\n",
       "<style scoped>\n",
       "    .dataframe tbody tr th:only-of-type {\n",
       "        vertical-align: middle;\n",
       "    }\n",
       "\n",
       "    .dataframe tbody tr th {\n",
       "        vertical-align: top;\n",
       "    }\n",
       "\n",
       "    .dataframe thead th {\n",
       "        text-align: right;\n",
       "    }\n",
       "</style>\n",
       "<table border=\"1\" class=\"dataframe\">\n",
       "  <thead>\n",
       "    <tr style=\"text-align: right;\">\n",
       "      <th></th>\n",
       "      <th>pic_id</th>\n",
       "      <th>response</th>\n",
       "      <th>score</th>\n",
       "      <th>raw</th>\n",
       "      <th>notes</th>\n",
       "    </tr>\n",
       "  </thead>\n",
       "  <tbody>\n",
       "    <tr>\n",
       "      <th>0</th>\n",
       "      <td>Format</td>\n",
       "      <td>LLM given response</td>\n",
       "      <td>calculated score of LLM's response</td>\n",
       "      <td>list of tuples (response,true); ordered [rect,...</td>\n",
       "      <td>notes</td>\n",
       "    </tr>\n",
       "    <tr>\n",
       "      <th>1</th>\n",
       "      <td>test</td>\n",
       "      <td>Here's a breakdown of the shapes in the image:...</td>\n",
       "      <td>1</td>\n",
       "      <td>[(1, 1), (3, 3), (0, 0)]</td>\n",
       "      <td>1 rectangle, 3 circles; probably too simple co...</td>\n",
       "    </tr>\n",
       "    <tr>\n",
       "      <th>2</th>\n",
       "      <td>test2</td>\n",
       "      <td>Here's a breakdown of the shapes in the image ...</td>\n",
       "      <td>0.8111</td>\n",
       "      <td>[(6, 5), (4, 4), (3, 5)]</td>\n",
       "      <td>5 rectangles, 4 circles, 5 triangles; hallucin...</td>\n",
       "    </tr>\n",
       "    <tr>\n",
       "      <th>3</th>\n",
       "      <td>r3_c5_t2</td>\n",
       "      <td>Here's a breakdown of the shapes in the image ...</td>\n",
       "      <td>0.9333</td>\n",
       "      <td>[(3, 3), (4, 5), (2, 2)]</td>\n",
       "      <td>Incorrect triangle color, Missed a circle, Inc...</td>\n",
       "    </tr>\n",
       "    <tr>\n",
       "      <th>4</th>\n",
       "      <td>r0_c1_t5</td>\n",
       "      <td>Here's a breakdown of the shapes in the image ...</td>\n",
       "      <td>0.8125</td>\n",
       "      <td>[(0, 0), (1, 1), (8, 5)]</td>\n",
       "      <td>May be counting subsections created by overlap...</td>\n",
       "    </tr>\n",
       "    <tr>\n",
       "      <th>5</th>\n",
       "      <td>r3_c2_t3</td>\n",
       "      <td>Here's a breakdown of the shapes identified in...</td>\n",
       "      <td>0.8889</td>\n",
       "      <td>[(3, 3), (2, 3), (3, 3)]</td>\n",
       "      <td>Wrong number of circles</td>\n",
       "    </tr>\n",
       "    <tr>\n",
       "      <th>6</th>\n",
       "      <td>r2_c6_t0</td>\n",
       "      <td>Here's a breakdown of the shapes identified in...</td>\n",
       "      <td>0.8333</td>\n",
       "      <td>[(3, 2), (6, 6), (0, 0)]</td>\n",
       "      <td>Incorrect number of rectangles</td>\n",
       "    </tr>\n",
       "    <tr>\n",
       "      <th>7</th>\n",
       "      <td>r4_c4_t3</td>\n",
       "      <td>Here's a breakdown of the shapes in the image ...</td>\n",
       "      <td>0.9167</td>\n",
       "      <td>[(4, 4), (3, 4), (3, 3)]</td>\n",
       "      <td>Missed a circle</td>\n",
       "    </tr>\n",
       "    <tr>\n",
       "      <th>8</th>\n",
       "      <td>r8_c5_t1</td>\n",
       "      <td>Here's a breakdown of the shapes in the image ...</td>\n",
       "      <td>0.6944</td>\n",
       "      <td>[(6, 8), (5, 6), (2, 1)]</td>\n",
       "      <td>counting 'line' as rectangle in score</td>\n",
       "    </tr>\n",
       "    <tr>\n",
       "      <th>9</th>\n",
       "      <td>r4_c6_t4</td>\n",
       "      <td>Here's a breakdown of the shapes in the image ...</td>\n",
       "      <td>0.7222</td>\n",
       "      <td>[(3, 4), (4, 6), (3, 4)]</td>\n",
       "      <td>Wrong on all counts</td>\n",
       "    </tr>\n",
       "    <tr>\n",
       "      <th>10</th>\n",
       "      <td>r6_c6_t0</td>\n",
       "      <td>Here's a breakdown of the shapes in the image ...</td>\n",
       "      <td>0.9</td>\n",
       "      <td>[(6, 6), (4, 5), (0, 0)]</td>\n",
       "      <td>image labelled incorrectly, there are 5 circle...</td>\n",
       "    </tr>\n",
       "    <tr>\n",
       "      <th>11</th>\n",
       "      <td>r0_c2_t7</td>\n",
       "      <td>Here's a breakdown of the shapes in the image ...</td>\n",
       "      <td>0.619</td>\n",
       "      <td>[(2, 0), (2, 2), (6, 7)]</td>\n",
       "      <td>Hallucinated 2 rectangles (negative space?), ...</td>\n",
       "    </tr>\n",
       "  </tbody>\n",
       "</table>\n",
       "</div>"
      ],
      "text/plain": [
       "      pic_id                                           response  \\\n",
       "0     Format                                 LLM given response   \n",
       "1       test  Here's a breakdown of the shapes in the image:...   \n",
       "2      test2  Here's a breakdown of the shapes in the image ...   \n",
       "3   r3_c5_t2  Here's a breakdown of the shapes in the image ...   \n",
       "4   r0_c1_t5  Here's a breakdown of the shapes in the image ...   \n",
       "5   r3_c2_t3  Here's a breakdown of the shapes identified in...   \n",
       "6   r2_c6_t0  Here's a breakdown of the shapes identified in...   \n",
       "7   r4_c4_t3  Here's a breakdown of the shapes in the image ...   \n",
       "8   r8_c5_t1  Here's a breakdown of the shapes in the image ...   \n",
       "9   r4_c6_t4  Here's a breakdown of the shapes in the image ...   \n",
       "10  r6_c6_t0  Here's a breakdown of the shapes in the image ...   \n",
       "11  r0_c2_t7  Here's a breakdown of the shapes in the image ...   \n",
       "\n",
       "                                 score  \\\n",
       "0   calculated score of LLM's response   \n",
       "1                                    1   \n",
       "2                               0.8111   \n",
       "3                               0.9333   \n",
       "4                               0.8125   \n",
       "5                               0.8889   \n",
       "6                               0.8333   \n",
       "7                               0.9167   \n",
       "8                               0.6944   \n",
       "9                               0.7222   \n",
       "10                                 0.9   \n",
       "11                               0.619   \n",
       "\n",
       "                                                  raw  \\\n",
       "0   list of tuples (response,true); ordered [rect,...   \n",
       "1                            [(1, 1), (3, 3), (0, 0)]   \n",
       "2                            [(6, 5), (4, 4), (3, 5)]   \n",
       "3                            [(3, 3), (4, 5), (2, 2)]   \n",
       "4                            [(0, 0), (1, 1), (8, 5)]   \n",
       "5                            [(3, 3), (2, 3), (3, 3)]   \n",
       "6                            [(3, 2), (6, 6), (0, 0)]   \n",
       "7                            [(4, 4), (3, 4), (3, 3)]   \n",
       "8                            [(6, 8), (5, 6), (2, 1)]   \n",
       "9                            [(3, 4), (4, 6), (3, 4)]   \n",
       "10                           [(6, 6), (4, 5), (0, 0)]   \n",
       "11                           [(2, 0), (2, 2), (6, 7)]   \n",
       "\n",
       "                                                notes  \n",
       "0                                               notes  \n",
       "1   1 rectangle, 3 circles; probably too simple co...  \n",
       "2   5 rectangles, 4 circles, 5 triangles; hallucin...  \n",
       "3   Incorrect triangle color, Missed a circle, Inc...  \n",
       "4   May be counting subsections created by overlap...  \n",
       "5                             Wrong number of circles  \n",
       "6                      Incorrect number of rectangles  \n",
       "7                                     Missed a circle  \n",
       "8               counting 'line' as rectangle in score  \n",
       "9                                 Wrong on all counts  \n",
       "10  image labelled incorrectly, there are 5 circle...  \n",
       "11   Hallucinated 2 rectangles (negative space?), ...  "
      ]
     },
     "execution_count": 175,
     "metadata": {},
     "output_type": "execute_result"
    }
   ],
   "source": [
    "new_row = {\"pic_id\": \"r0_c2_t7\",\n",
    "            \"response\": \"\"\"Here's a breakdown of the shapes in the image and their counts:\n",
    "\n",
    "*   **Triangles:** 6\n",
    "*   **Circles:** 2\n",
    "*   **Rectangles/Parallelograms:** 2 (one is a long, thin rectangle)\n",
    "\n",
    "So, in total, there are **10** shapes in the image.\n",
    "\"\"\",\n",
    "            \"score\": avg([(2,0),(2,2),(6,7)]),\n",
    "            \"raw\": [(2,0),(2,2),(6,7)],\n",
    "            \"notes\":\" Hallucinated 2 rectangles (negative space?), missed 1 triangle\",\n",
    "           }\n",
    "\n",
    "#new_data.append(new_row)\n",
    "\n",
    "responses = pd.DataFrame(new_data)\n",
    "responses"
   ]
  },
  {
   "cell_type": "code",
   "execution_count": 181,
   "id": "6700fb81-c524-40be-bb35-d858ea456e5d",
   "metadata": {},
   "outputs": [],
   "source": [
    "test_list = [\"r1_c8_t0.png\",\"r2_c8_t4.png\"]"
   ]
  },
  {
   "cell_type": "code",
   "execution_count": 183,
   "id": "5aa9e118-1240-4556-a757-fc23eb5086fc",
   "metadata": {
    "scrolled": true
   },
   "outputs": [
    {
     "name": "stdout",
     "output_type": "stream",
     "text": [
      "Here's a breakdown of the shapes in the image and their counts:\n",
      "\n",
      "*   **Circles:** 8\n",
      "*   **Square:** 1\n",
      "\n",
      "So, there are a total of **9** shapes in the image.\n"
     ]
    },
    {
     "data": {
      "image/png": "[encoded data removed]",
      "text/plain": [
       "<Figure size 640x480 with 1 Axes>"
      ]
     },
     "metadata": {},
     "output_type": "display_data"
    },
    {
     "name": "stdin",
     "output_type": "stream",
     "text": [
      " Correct; b&w\n"
     ]
    },
    {
     "ename": "AttributeError",
     "evalue": "'tuple' object has no attribute 'keys'",
     "output_type": "error",
     "traceback": [
      "\u001b[0;31m---------------------------------------------------------------------------\u001b[0m",
      "\u001b[0;31mAttributeError\u001b[0m                            Traceback (most recent call last)",
      "Cell \u001b[0;32mIn[183], line 2\u001b[0m\n\u001b[1;32m      1\u001b[0m \u001b[38;5;28;01mfor\u001b[39;00m pic \u001b[38;5;129;01min\u001b[39;00m test_list:\n\u001b[0;32m----> 2\u001b[0m     new_get_response(pic)\n",
      "Cell \u001b[0;32mIn[103], line 34\u001b[0m, in \u001b[0;36mnew_get_response\u001b[0;34m(image_path, show, model, REQUEST)\u001b[0m\n\u001b[1;32m     32\u001b[0m words \u001b[38;5;241m=\u001b[39m response\u001b[38;5;241m.\u001b[39mtext\n\u001b[1;32m     33\u001b[0m note \u001b[38;5;241m=\u001b[39m \u001b[38;5;28minput\u001b[39m()\n\u001b[0;32m---> 34\u001b[0m responses \u001b[38;5;241m=\u001b[39m append_data(pic_id,words,note)\n",
      "Cell \u001b[0;32mIn[177], line 12\u001b[0m, in \u001b[0;36mappend_data\u001b[0;34m(id, response, notes)\u001b[0m\n\u001b[1;32m      8\u001b[0m \u001b[38;5;66;03m#df = pd.concat([df, pd.DataFrame([new_row])], ignore_index=True)\u001b[39;00m\n\u001b[1;32m     10\u001b[0m new_data\u001b[38;5;241m.\u001b[39mappend(new_row)\n\u001b[0;32m---> 12\u001b[0m df \u001b[38;5;241m=\u001b[39m pd\u001b[38;5;241m.\u001b[39mDataFrame(new_data)\n\u001b[1;32m     14\u001b[0m \u001b[38;5;28;01mreturn\u001b[39;00m df\n",
      "File \u001b[0;32m/opt/anaconda3/lib/python3.12/site-packages/pandas/core/frame.py:851\u001b[0m, in \u001b[0;36mDataFrame.__init__\u001b[0;34m(self, data, index, columns, dtype, copy)\u001b[0m\n\u001b[1;32m    849\u001b[0m     \u001b[38;5;28;01mif\u001b[39;00m columns \u001b[38;5;129;01mis\u001b[39;00m \u001b[38;5;129;01mnot\u001b[39;00m \u001b[38;5;28;01mNone\u001b[39;00m:\n\u001b[1;32m    850\u001b[0m         columns \u001b[38;5;241m=\u001b[39m ensure_index(columns)\n\u001b[0;32m--> 851\u001b[0m     arrays, columns, index \u001b[38;5;241m=\u001b[39m nested_data_to_arrays(\n\u001b[1;32m    852\u001b[0m         \u001b[38;5;66;03m# error: Argument 3 to \"nested_data_to_arrays\" has incompatible\u001b[39;00m\n\u001b[1;32m    853\u001b[0m         \u001b[38;5;66;03m# type \"Optional[Collection[Any]]\"; expected \"Optional[Index]\"\u001b[39;00m\n\u001b[1;32m    854\u001b[0m         data,\n\u001b[1;32m    855\u001b[0m         columns,\n\u001b[1;32m    856\u001b[0m         index,  \u001b[38;5;66;03m# type: ignore[arg-type]\u001b[39;00m\n\u001b[1;32m    857\u001b[0m         dtype,\n\u001b[1;32m    858\u001b[0m     )\n\u001b[1;32m    859\u001b[0m     mgr \u001b[38;5;241m=\u001b[39m arrays_to_mgr(\n\u001b[1;32m    860\u001b[0m         arrays,\n\u001b[1;32m    861\u001b[0m         columns,\n\u001b[0;32m   (...)\u001b[0m\n\u001b[1;32m    864\u001b[0m         typ\u001b[38;5;241m=\u001b[39mmanager,\n\u001b[1;32m    865\u001b[0m     )\n\u001b[1;32m    866\u001b[0m \u001b[38;5;28;01melse\u001b[39;00m:\n",
      "File \u001b[0;32m/opt/anaconda3/lib/python3.12/site-packages/pandas/core/internals/construction.py:520\u001b[0m, in \u001b[0;36mnested_data_to_arrays\u001b[0;34m(data, columns, index, dtype)\u001b[0m\n\u001b[1;32m    517\u001b[0m \u001b[38;5;28;01mif\u001b[39;00m is_named_tuple(data[\u001b[38;5;241m0\u001b[39m]) \u001b[38;5;129;01mand\u001b[39;00m columns \u001b[38;5;129;01mis\u001b[39;00m \u001b[38;5;28;01mNone\u001b[39;00m:\n\u001b[1;32m    518\u001b[0m     columns \u001b[38;5;241m=\u001b[39m ensure_index(data[\u001b[38;5;241m0\u001b[39m]\u001b[38;5;241m.\u001b[39m_fields)\n\u001b[0;32m--> 520\u001b[0m arrays, columns \u001b[38;5;241m=\u001b[39m to_arrays(data, columns, dtype\u001b[38;5;241m=\u001b[39mdtype)\n\u001b[1;32m    521\u001b[0m columns \u001b[38;5;241m=\u001b[39m ensure_index(columns)\n\u001b[1;32m    523\u001b[0m \u001b[38;5;28;01mif\u001b[39;00m index \u001b[38;5;129;01mis\u001b[39;00m \u001b[38;5;28;01mNone\u001b[39;00m:\n",
      "File \u001b[0;32m/opt/anaconda3/lib/python3.12/site-packages/pandas/core/internals/construction.py:837\u001b[0m, in \u001b[0;36mto_arrays\u001b[0;34m(data, columns, dtype)\u001b[0m\n\u001b[1;32m    835\u001b[0m     arr \u001b[38;5;241m=\u001b[39m _list_to_arrays(data)\n\u001b[1;32m    836\u001b[0m \u001b[38;5;28;01melif\u001b[39;00m \u001b[38;5;28misinstance\u001b[39m(data[\u001b[38;5;241m0\u001b[39m], abc\u001b[38;5;241m.\u001b[39mMapping):\n\u001b[0;32m--> 837\u001b[0m     arr, columns \u001b[38;5;241m=\u001b[39m _list_of_dict_to_arrays(data, columns)\n\u001b[1;32m    838\u001b[0m \u001b[38;5;28;01melif\u001b[39;00m \u001b[38;5;28misinstance\u001b[39m(data[\u001b[38;5;241m0\u001b[39m], ABCSeries):\n\u001b[1;32m    839\u001b[0m     arr, columns \u001b[38;5;241m=\u001b[39m _list_of_series_to_arrays(data, columns)\n",
      "File \u001b[0;32m/opt/anaconda3/lib/python3.12/site-packages/pandas/core/internals/construction.py:917\u001b[0m, in \u001b[0;36m_list_of_dict_to_arrays\u001b[0;34m(data, columns)\u001b[0m\n\u001b[1;32m    915\u001b[0m     gen \u001b[38;5;241m=\u001b[39m (\u001b[38;5;28mlist\u001b[39m(x\u001b[38;5;241m.\u001b[39mkeys()) \u001b[38;5;28;01mfor\u001b[39;00m x \u001b[38;5;129;01min\u001b[39;00m data)\n\u001b[1;32m    916\u001b[0m     sort \u001b[38;5;241m=\u001b[39m \u001b[38;5;129;01mnot\u001b[39;00m \u001b[38;5;28many\u001b[39m(\u001b[38;5;28misinstance\u001b[39m(d, \u001b[38;5;28mdict\u001b[39m) \u001b[38;5;28;01mfor\u001b[39;00m d \u001b[38;5;129;01min\u001b[39;00m data)\n\u001b[0;32m--> 917\u001b[0m     pre_cols \u001b[38;5;241m=\u001b[39m lib\u001b[38;5;241m.\u001b[39mfast_unique_multiple_list_gen(gen, sort\u001b[38;5;241m=\u001b[39msort)\n\u001b[1;32m    918\u001b[0m     columns \u001b[38;5;241m=\u001b[39m ensure_index(pre_cols)\n\u001b[1;32m    920\u001b[0m \u001b[38;5;66;03m# assure that they are of the base dict class and not of derived\u001b[39;00m\n\u001b[1;32m    921\u001b[0m \u001b[38;5;66;03m# classes\u001b[39;00m\n",
      "File \u001b[0;32mlib.pyx:367\u001b[0m, in \u001b[0;36mpandas._libs.lib.fast_unique_multiple_list_gen\u001b[0;34m()\u001b[0m\n",
      "File \u001b[0;32m/opt/anaconda3/lib/python3.12/site-packages/pandas/core/internals/construction.py:915\u001b[0m, in \u001b[0;36m<genexpr>\u001b[0;34m(.0)\u001b[0m\n\u001b[1;32m    895\u001b[0m \u001b[38;5;250m\u001b[39m\u001b[38;5;124;03m\"\"\"\u001b[39;00m\n\u001b[1;32m    896\u001b[0m \u001b[38;5;124;03mConvert list of dicts to numpy arrays\u001b[39;00m\n\u001b[1;32m    897\u001b[0m \n\u001b[0;32m   (...)\u001b[0m\n\u001b[1;32m    912\u001b[0m \u001b[38;5;124;03mcolumns : Index\u001b[39;00m\n\u001b[1;32m    913\u001b[0m \u001b[38;5;124;03m\"\"\"\u001b[39;00m\n\u001b[1;32m    914\u001b[0m \u001b[38;5;28;01mif\u001b[39;00m columns \u001b[38;5;129;01mis\u001b[39;00m \u001b[38;5;28;01mNone\u001b[39;00m:\n\u001b[0;32m--> 915\u001b[0m     gen \u001b[38;5;241m=\u001b[39m (\u001b[38;5;28mlist\u001b[39m(x\u001b[38;5;241m.\u001b[39mkeys()) \u001b[38;5;28;01mfor\u001b[39;00m x \u001b[38;5;129;01min\u001b[39;00m data)\n\u001b[1;32m    916\u001b[0m     sort \u001b[38;5;241m=\u001b[39m \u001b[38;5;129;01mnot\u001b[39;00m \u001b[38;5;28many\u001b[39m(\u001b[38;5;28misinstance\u001b[39m(d, \u001b[38;5;28mdict\u001b[39m) \u001b[38;5;28;01mfor\u001b[39;00m d \u001b[38;5;129;01min\u001b[39;00m data)\n\u001b[1;32m    917\u001b[0m     pre_cols \u001b[38;5;241m=\u001b[39m lib\u001b[38;5;241m.\u001b[39mfast_unique_multiple_list_gen(gen, sort\u001b[38;5;241m=\u001b[39msort)\n",
      "\u001b[0;31mAttributeError\u001b[0m: 'tuple' object has no attribute 'keys'"
     ]
    }
   ],
   "source": [
    "for pic in test_list:\n",
    "    new_get_response(pic)"
   ]
  },
  {
   "cell_type": "code",
   "execution_count": 189,
   "id": "1e2a5897-de30-4274-88a7-6a1ffa6fc234",
   "metadata": {},
   "outputs": [
    {
     "data": {
      "text/plain": [
       "{'pic_id': 'r1_c8_t0.png',\n",
       " 'response': \"Here's a breakdown of the shapes in the image and their counts:\\n\\n*   **Circles:** 8\\n*   **Square:** 1\\n\\nSo, there are a total of **9** shapes in the image.\",\n",
       " 'score': None,\n",
       " 'raw': None,\n",
       " 'notes': 'Correct; b&w'}"
      ]
     },
     "execution_count": 189,
     "metadata": {},
     "output_type": "execute_result"
    }
   ],
   "source": [
    "r1_c8_t0 = new_data[-1]\n",
    "\n",
    "new_data[-1]= r1_c8_t0[0]\n",
    "\n",
    "new_data[-1]"
   ]
  },
  {
   "cell_type": "code",
   "execution_count": 203,
   "id": "5cc775b0-4068-4637-b98a-f043d9ce8227",
   "metadata": {},
   "outputs": [
    {
     "data": {
      "text/plain": [
       "{'pic_id': 'r1_c8_t0',\n",
       " 'response': \"Here's a breakdown of the shapes in the image and their counts:\\n\\n*   **Circles:** 8\\n*   **Square:** 1\\n\\nSo, there are a total of **9** shapes in the image.\",\n",
       " 'score': None,\n",
       " 'raw': None,\n",
       " 'notes': 'Correct; b&w'}"
      ]
     },
     "execution_count": 203,
     "metadata": {},
     "output_type": "execute_result"
    }
   ],
   "source": [
    "new_data[-1][\"pic_id\"] = \"r1_c8_t0\"\n",
    "\n",
    "new_data[-1]"
   ]
  },
  {
   "cell_type": "code",
   "execution_count": 205,
   "id": "7ace3eff-98c3-45f3-b6a3-7060d550b104",
   "metadata": {},
   "outputs": [
    {
     "data": {
      "text/html": [
       "<div>\n",
       "<style scoped>\n",
       "    .dataframe tbody tr th:only-of-type {\n",
       "        vertical-align: middle;\n",
       "    }\n",
       "\n",
       "    .dataframe tbody tr th {\n",
       "        vertical-align: top;\n",
       "    }\n",
       "\n",
       "    .dataframe thead th {\n",
       "        text-align: right;\n",
       "    }\n",
       "</style>\n",
       "<table border=\"1\" class=\"dataframe\">\n",
       "  <thead>\n",
       "    <tr style=\"text-align: right;\">\n",
       "      <th></th>\n",
       "      <th>pic_id</th>\n",
       "      <th>response</th>\n",
       "      <th>score</th>\n",
       "      <th>raw</th>\n",
       "      <th>notes</th>\n",
       "    </tr>\n",
       "  </thead>\n",
       "  <tbody>\n",
       "    <tr>\n",
       "      <th>8</th>\n",
       "      <td>r8_c5_t1</td>\n",
       "      <td>Here's a breakdown of the shapes in the image ...</td>\n",
       "      <td>0.6944</td>\n",
       "      <td>[(6, 8), (5, 6), (2, 1)]</td>\n",
       "      <td>counting 'line' as rectangle in score</td>\n",
       "    </tr>\n",
       "    <tr>\n",
       "      <th>9</th>\n",
       "      <td>r4_c6_t4</td>\n",
       "      <td>Here's a breakdown of the shapes in the image ...</td>\n",
       "      <td>0.7222</td>\n",
       "      <td>[(3, 4), (4, 6), (3, 4)]</td>\n",
       "      <td>Wrong on all counts</td>\n",
       "    </tr>\n",
       "    <tr>\n",
       "      <th>10</th>\n",
       "      <td>r6_c6_t0</td>\n",
       "      <td>Here's a breakdown of the shapes in the image ...</td>\n",
       "      <td>0.9</td>\n",
       "      <td>[(6, 6), (4, 5), (0, 0)]</td>\n",
       "      <td>image labelled incorrectly, there are 5 circle...</td>\n",
       "    </tr>\n",
       "    <tr>\n",
       "      <th>11</th>\n",
       "      <td>r0_c2_t7</td>\n",
       "      <td>Here's a breakdown of the shapes in the image ...</td>\n",
       "      <td>0.619</td>\n",
       "      <td>[(2, 0), (2, 2), (6, 7)]</td>\n",
       "      <td>Hallucinated 2 rectangles (negative space?), ...</td>\n",
       "    </tr>\n",
       "    <tr>\n",
       "      <th>12</th>\n",
       "      <td>r1_c8_t0</td>\n",
       "      <td>Here's a breakdown of the shapes in the image ...</td>\n",
       "      <td>None</td>\n",
       "      <td>None</td>\n",
       "      <td>Correct; b&amp;w</td>\n",
       "    </tr>\n",
       "  </tbody>\n",
       "</table>\n",
       "</div>"
      ],
      "text/plain": [
       "      pic_id                                           response   score  \\\n",
       "8   r8_c5_t1  Here's a breakdown of the shapes in the image ...  0.6944   \n",
       "9   r4_c6_t4  Here's a breakdown of the shapes in the image ...  0.7222   \n",
       "10  r6_c6_t0  Here's a breakdown of the shapes in the image ...     0.9   \n",
       "11  r0_c2_t7  Here's a breakdown of the shapes in the image ...   0.619   \n",
       "12  r1_c8_t0  Here's a breakdown of the shapes in the image ...    None   \n",
       "\n",
       "                         raw  \\\n",
       "8   [(6, 8), (5, 6), (2, 1)]   \n",
       "9   [(3, 4), (4, 6), (3, 4)]   \n",
       "10  [(6, 6), (4, 5), (0, 0)]   \n",
       "11  [(2, 0), (2, 2), (6, 7)]   \n",
       "12                      None   \n",
       "\n",
       "                                                notes  \n",
       "8               counting 'line' as rectangle in score  \n",
       "9                                 Wrong on all counts  \n",
       "10  image labelled incorrectly, there are 5 circle...  \n",
       "11   Hallucinated 2 rectangles (negative space?), ...  \n",
       "12                                       Correct; b&w  "
      ]
     },
     "execution_count": 205,
     "metadata": {},
     "output_type": "execute_result"
    }
   ],
   "source": [
    "responses = pd.DataFrame(new_data)\n",
    "responses.tail()"
   ]
  },
  {
   "cell_type": "code",
   "execution_count": 209,
   "id": "223dbde1-0564-432a-9ee3-07ce1ef1e5bd",
   "metadata": {
    "scrolled": true
   },
   "outputs": [
    {
     "data": {
      "text/plain": [
       "['r4_c7_t5.png',\n",
       " 'r0_c8_t5.png',\n",
       " 'r4_c7_t4.png',\n",
       " 'r8_c3_t3.png',\n",
       " 'r0_c6_t3.png',\n",
       " 'r8_c1_t2.png',\n",
       " '.DS_Store',\n",
       " 'r4_c7_t1.png',\n",
       " 'r2_c1_t3.png',\n",
       " 'r1_c4_t6.png',\n",
       " 'r3_c7_t7.png',\n",
       " 'r7_c6_t3.png',\n",
       " 'r7_c6_t2.png',\n",
       " 'r5_c5_t4.png',\n",
       " 'r4_c4_t2.png',\n",
       " 'r2_c8_t4.png',\n",
       " 'r4_c6_t4.png',\n",
       " 'r3_c2_t5.png',\n",
       " 'r2_c6_t2.png',\n",
       " 'r3_c0_t4.png',\n",
       " 'r6_c7_t2.png',\n",
       " 'r2_c4_t2.png',\n",
       " 'r4_c4_t5.png',\n",
       " 'r8_c0_t3.png',\n",
       " 'r4_c6_t2.png',\n",
       " 'r7_c1_t2.png',\n",
       " 'r0_c3_t4.png',\n",
       " 'r2_c2_t7.png',\n",
       " 'r3_c4_t4.png',\n",
       " 'r5_c8_t3.png',\n",
       " 'r0_c3_t7.png',\n",
       " 'r5_c4_t0.png',\n",
       " 'r2_c2_t5.png',\n",
       " 'r5_c6_t1.png',\n",
       " 'r5_c4_t5.png',\n",
       " 'Used',\n",
       " 'r2_c0_t7.png',\n",
       " 'r8_c4_t4.png',\n",
       " 'r4_c2_t5.png',\n",
       " 'r7_c7_t0.png']"
      ]
     },
     "execution_count": 209,
     "metadata": {},
     "output_type": "execute_result"
    }
   ],
   "source": [
    "os.listdir(data_dir)"
   ]
  },
  {
   "cell_type": "code",
   "execution_count": 213,
   "id": "aafdabd5-bdde-4863-9642-758ea46a72b2",
   "metadata": {},
   "outputs": [],
   "source": [
    "test_list = ['r4_c7_t5.png',\n",
    " 'r0_c8_t5.png']"
   ]
  },
  {
   "cell_type": "code",
   "execution_count": 215,
   "id": "09f87350-fbc5-4384-b140-4513b364c3f4",
   "metadata": {},
   "outputs": [
    {
     "name": "stdout",
     "output_type": "stream",
     "text": [
      "Here's a breakdown of the shapes in the image and their counts:\n",
      "\n",
      "*   **Circles:** 6\n",
      "*   **Triangles:** 4\n",
      "*   **Rectangles:** 4\n",
      "*   **Lines:** 1\n",
      "\n",
      "**Total Shapes:** 15\n"
     ]
    },
    {
     "data": {
      "image/png": "[encoded data removed]",
      "text/plain": [
       "<Figure size 640x480 with 1 Axes>"
      ]
     },
     "metadata": {},
     "output_type": "display_data"
    },
    {
     "name": "stdin",
     "output_type": "stream",
     "text": [
      " \"Line\" = misidentified triangle; missed 1 circle\n"
     ]
    }
   ],
   "source": [
    "for pic in test_list:\n",
    "    new_get_response(pic)\n",
    "    test_list.remove(pic)"
   ]
  },
  {
   "cell_type": "code",
   "execution_count": 219,
   "id": "a621d408-261c-4511-b38c-44e9cb39b7a5",
   "metadata": {},
   "outputs": [
    {
     "data": {
      "text/html": [
       "<div>\n",
       "<style scoped>\n",
       "    .dataframe tbody tr th:only-of-type {\n",
       "        vertical-align: middle;\n",
       "    }\n",
       "\n",
       "    .dataframe tbody tr th {\n",
       "        vertical-align: top;\n",
       "    }\n",
       "\n",
       "    .dataframe thead th {\n",
       "        text-align: right;\n",
       "    }\n",
       "</style>\n",
       "<table border=\"1\" class=\"dataframe\">\n",
       "  <thead>\n",
       "    <tr style=\"text-align: right;\">\n",
       "      <th></th>\n",
       "      <th>pic_id</th>\n",
       "      <th>response</th>\n",
       "      <th>score</th>\n",
       "      <th>raw</th>\n",
       "      <th>notes</th>\n",
       "    </tr>\n",
       "  </thead>\n",
       "  <tbody>\n",
       "    <tr>\n",
       "      <th>8</th>\n",
       "      <td>r8_c5_t1</td>\n",
       "      <td>Here's a breakdown of the shapes in the image ...</td>\n",
       "      <td>0.6944</td>\n",
       "      <td>[(6, 8), (5, 6), (2, 1)]</td>\n",
       "      <td>counting 'line' as rectangle in score</td>\n",
       "    </tr>\n",
       "    <tr>\n",
       "      <th>9</th>\n",
       "      <td>r4_c6_t4</td>\n",
       "      <td>Here's a breakdown of the shapes in the image ...</td>\n",
       "      <td>0.7222</td>\n",
       "      <td>[(3, 4), (4, 6), (3, 4)]</td>\n",
       "      <td>Wrong on all counts</td>\n",
       "    </tr>\n",
       "    <tr>\n",
       "      <th>10</th>\n",
       "      <td>r6_c6_t0</td>\n",
       "      <td>Here's a breakdown of the shapes in the image ...</td>\n",
       "      <td>0.9</td>\n",
       "      <td>[(6, 6), (4, 5), (0, 0)]</td>\n",
       "      <td>image labelled incorrectly, there are 5 circle...</td>\n",
       "    </tr>\n",
       "    <tr>\n",
       "      <th>11</th>\n",
       "      <td>r0_c2_t7</td>\n",
       "      <td>Here's a breakdown of the shapes in the image ...</td>\n",
       "      <td>0.619</td>\n",
       "      <td>[(2, 0), (2, 2), (6, 7)]</td>\n",
       "      <td>Hallucinated 2 rectangles (negative space?), ...</td>\n",
       "    </tr>\n",
       "    <tr>\n",
       "      <th>12</th>\n",
       "      <td>r1_c8_t0</td>\n",
       "      <td>Here's a breakdown of the shapes in the image ...</td>\n",
       "      <td>None</td>\n",
       "      <td>None</td>\n",
       "      <td>Correct; b&amp;w</td>\n",
       "    </tr>\n",
       "  </tbody>\n",
       "</table>\n",
       "</div>"
      ],
      "text/plain": [
       "      pic_id                                           response   score  \\\n",
       "8   r8_c5_t1  Here's a breakdown of the shapes in the image ...  0.6944   \n",
       "9   r4_c6_t4  Here's a breakdown of the shapes in the image ...  0.7222   \n",
       "10  r6_c6_t0  Here's a breakdown of the shapes in the image ...     0.9   \n",
       "11  r0_c2_t7  Here's a breakdown of the shapes in the image ...   0.619   \n",
       "12  r1_c8_t0  Here's a breakdown of the shapes in the image ...    None   \n",
       "\n",
       "                         raw  \\\n",
       "8   [(6, 8), (5, 6), (2, 1)]   \n",
       "9   [(3, 4), (4, 6), (3, 4)]   \n",
       "10  [(6, 6), (4, 5), (0, 0)]   \n",
       "11  [(2, 0), (2, 2), (6, 7)]   \n",
       "12                      None   \n",
       "\n",
       "                                                notes  \n",
       "8               counting 'line' as rectangle in score  \n",
       "9                                 Wrong on all counts  \n",
       "10  image labelled incorrectly, there are 5 circle...  \n",
       "11   Hallucinated 2 rectangles (negative space?), ...  \n",
       "12                                       Correct; b&w  "
      ]
     },
     "execution_count": 219,
     "metadata": {},
     "output_type": "execute_result"
    }
   ],
   "source": [
    "responses.tail()"
   ]
  },
  {
   "cell_type": "code",
   "execution_count": 221,
   "id": "1981a2f5-1b5a-4f92-b4a6-0f35ea3b3317",
   "metadata": {},
   "outputs": [
    {
     "data": {
      "text/plain": [
       "{'pic_id': 'r4_c7_t5.',\n",
       " 'response': \"Here's a breakdown of the shapes in the image and their counts:\\n\\n*   **Circles:** 6\\n*   **Triangles:** 4\\n*   **Rectangles:** 4\\n*   **Lines:** 1\\n\\n**Total Shapes:** 15\",\n",
       " 'score': None,\n",
       " 'raw': None,\n",
       " 'notes': '\"Line\" = misidentified triangle; missed 1 circle'}"
      ]
     },
     "execution_count": 221,
     "metadata": {},
     "output_type": "execute_result"
    }
   ],
   "source": [
    "new_data[-1]"
   ]
  },
  {
   "cell_type": "code",
   "execution_count": 227,
   "id": "aa390a7b-6dc3-4535-8d9a-bc0149364927",
   "metadata": {},
   "outputs": [
    {
     "name": "stdout",
     "output_type": "stream",
     "text": [
      "Here's a breakdown of the shapes in the image and their counts:\n",
      "\n",
      "*   **Circles:** 6\n",
      "*   **Triangles:** 3\n",
      "*   **Squares/Rectangles:** 3\n",
      "*   **Lines:** 5\n",
      "\n",
      "It's worth noting that the shapes are overlapping and have varying transparency, which can make precise counting a bit subjective.\n"
     ]
    },
    {
     "data": {
      "image/png": "[encoded data removed]",
      "text/plain": [
       "<Figure size 640x480 with 1 Axes>"
      ]
     },
     "metadata": {},
     "output_type": "display_data"
    },
    {
     "name": "stdin",
     "output_type": "stream",
     "text": [
      " Hallucinated 1 rectangle, 2 missed circles, 1 missed triangle, 5 hallucinated lines?\n"
     ]
    }
   ],
   "source": [
    "responses = new_get_response(\"r2_c8_t4.png\")"
   ]
  },
  {
   "cell_type": "code",
   "execution_count": 235,
   "id": "9725abce-def1-48f7-9102-51ce6d9d6379",
   "metadata": {},
   "outputs": [
    {
     "data": {
      "text/html": [
       "<div>\n",
       "<style scoped>\n",
       "    .dataframe tbody tr th:only-of-type {\n",
       "        vertical-align: middle;\n",
       "    }\n",
       "\n",
       "    .dataframe tbody tr th {\n",
       "        vertical-align: top;\n",
       "    }\n",
       "\n",
       "    .dataframe thead th {\n",
       "        text-align: right;\n",
       "    }\n",
       "</style>\n",
       "<table border=\"1\" class=\"dataframe\">\n",
       "  <thead>\n",
       "    <tr style=\"text-align: right;\">\n",
       "      <th></th>\n",
       "      <th>pic_id</th>\n",
       "      <th>response</th>\n",
       "      <th>score</th>\n",
       "      <th>raw</th>\n",
       "      <th>notes</th>\n",
       "    </tr>\n",
       "  </thead>\n",
       "  <tbody>\n",
       "    <tr>\n",
       "      <th>11</th>\n",
       "      <td>r0_c2_t7</td>\n",
       "      <td>Here's a breakdown of the shapes in the image ...</td>\n",
       "      <td>0.619</td>\n",
       "      <td>[(2, 0), (2, 2), (6, 7)]</td>\n",
       "      <td>Hallucinated 2 rectangles (negative space?), ...</td>\n",
       "    </tr>\n",
       "    <tr>\n",
       "      <th>12</th>\n",
       "      <td>r1_c8_t0</td>\n",
       "      <td>Here's a breakdown of the shapes in the image ...</td>\n",
       "      <td>None</td>\n",
       "      <td>None</td>\n",
       "      <td>Correct; b&amp;w</td>\n",
       "    </tr>\n",
       "    <tr>\n",
       "      <th>13</th>\n",
       "      <td>r4_c7_t5.</td>\n",
       "      <td>Here's a breakdown of the shapes in the image ...</td>\n",
       "      <td>None</td>\n",
       "      <td>None</td>\n",
       "      <td>\"Line\" = misidentified triangle; missed 1 circle</td>\n",
       "    </tr>\n",
       "    <tr>\n",
       "      <th>14</th>\n",
       "      <td>r2_c8_t4</td>\n",
       "      <td>Here's a breakdown of the shapes in the image ...</td>\n",
       "      <td>None</td>\n",
       "      <td>None</td>\n",
       "      <td>Hallucinated 1 rectangle, 2 missed circles, 1 ...</td>\n",
       "    </tr>\n",
       "    <tr>\n",
       "      <th>15</th>\n",
       "      <td>r0_c6_t3</td>\n",
       "      <td>Here's a breakdown of the shapes in the image ...</td>\n",
       "      <td>None</td>\n",
       "      <td>None</td>\n",
       "      <td>1 hallucinated \"rectangle\", 1 missed circle</td>\n",
       "    </tr>\n",
       "  </tbody>\n",
       "</table>\n",
       "</div>"
      ],
      "text/plain": [
       "       pic_id                                           response  score  \\\n",
       "11   r0_c2_t7  Here's a breakdown of the shapes in the image ...  0.619   \n",
       "12   r1_c8_t0  Here's a breakdown of the shapes in the image ...   None   \n",
       "13  r4_c7_t5.  Here's a breakdown of the shapes in the image ...   None   \n",
       "14   r2_c8_t4  Here's a breakdown of the shapes in the image ...   None   \n",
       "15   r0_c6_t3  Here's a breakdown of the shapes in the image ...   None   \n",
       "\n",
       "                         raw  \\\n",
       "11  [(2, 0), (2, 2), (6, 7)]   \n",
       "12                      None   \n",
       "13                      None   \n",
       "14                      None   \n",
       "15                      None   \n",
       "\n",
       "                                                notes  \n",
       "11   Hallucinated 2 rectangles (negative space?), ...  \n",
       "12                                       Correct; b&w  \n",
       "13   \"Line\" = misidentified triangle; missed 1 circle  \n",
       "14  Hallucinated 1 rectangle, 2 missed circles, 1 ...  \n",
       "15        1 hallucinated \"rectangle\", 1 missed circle  "
      ]
     },
     "execution_count": 235,
     "metadata": {},
     "output_type": "execute_result"
    }
   ],
   "source": [
    "responses.tail()"
   ]
  },
  {
   "cell_type": "code",
   "execution_count": 233,
   "id": "e83bd106-42de-4dec-9c16-fa7cdbe5ed2c",
   "metadata": {},
   "outputs": [
    {
     "name": "stdout",
     "output_type": "stream",
     "text": [
      "Here's a breakdown of the shapes in the image and their counts:\n",
      "\n",
      "*   **Triangles:** 3\n",
      "*   **Circles:** 5\n",
      "*   **Quadrilaterals (specifically, a parallelogram/trapezoid):** 1\n",
      "\n",
      "So, in total, there are **9** shapes in the image.\n"
     ]
    },
    {
     "data": {
      "image/png": "[encoded data removed]",
      "text/plain": [
       "<Figure size 640x480 with 1 Axes>"
      ]
     },
     "metadata": {},
     "output_type": "display_data"
    },
    {
     "name": "stdin",
     "output_type": "stream",
     "text": [
      " 1 hallucinated \"rectangle\", 1 missed circle\n"
     ]
    }
   ],
   "source": [
    "responses = new_get_response(\"r0_c6_t3.png\")"
   ]
  },
  {
   "cell_type": "code",
   "execution_count": 237,
   "id": "dcd033fc-8e75-4935-9b6a-cc350f2388b0",
   "metadata": {},
   "outputs": [
    {
     "name": "stdout",
     "output_type": "stream",
     "text": [
      "\u001b[34mUsed\u001b[m\u001b[m         r2_c1_t3.png r3_c2_t5.png r4_c6_t2.png r5_c5_t4.png r7_c6_t3.png\n",
      "r0_c3_t4.png r2_c2_t5.png r3_c4_t4.png r4_c6_t4.png r5_c6_t1.png r7_c7_t0.png\n",
      "r0_c3_t7.png r2_c2_t7.png r3_c7_t7.png r4_c7_t1.png r5_c8_t3.png r8_c0_t3.png\n",
      "r0_c8_t5.png r2_c4_t2.png r4_c2_t5.png r4_c7_t4.png r6_c7_t2.png r8_c1_t2.png\n",
      "r1_c4_t6.png r2_c6_t2.png r4_c4_t2.png r5_c4_t0.png r7_c1_t2.png r8_c3_t3.png\n",
      "r2_c0_t7.png r3_c0_t4.png r4_c4_t5.png r5_c4_t5.png r7_c6_t2.png r8_c4_t4.png\n"
     ]
    }
   ],
   "source": [
    "!cd Data && ls"
   ]
  },
  {
   "cell_type": "code",
   "execution_count": 241,
   "id": "06cadb86-885b-4091-8f02-465b32fcb855",
   "metadata": {},
   "outputs": [
    {
     "data": {
      "text/plain": [
       "['r2_c1_t3.png', 'r3_c2_t5.png', 'r4_c6_t2.png']"
      ]
     },
     "execution_count": 241,
     "metadata": {},
     "output_type": "execute_result"
    }
   ],
   "source": [
    "multiple_pics = \"r2_c1_t3.png r3_c2_t5.png r4_c6_t2.png\".split(\" \")\n",
    "multiple_pics"
   ]
  },
  {
   "cell_type": "code",
   "execution_count": 243,
   "id": "76319b04-4fa3-42bb-9f38-e38dc76af7a5",
   "metadata": {},
   "outputs": [
    {
     "name": "stdout",
     "output_type": "stream",
     "text": [
      "Here's a breakdown of the shapes in the image and their counts:\n",
      "\n",
      "*   **Triangles:** There are 6 triangles visible.\n",
      "*   **Squares/Rectangles:** There are 3 squares/rectangles visible.\n",
      "*   **Circles:** There is 1 circle visible.\n",
      "\n",
      "**Total:** 10 shapes.\n",
      "\n",
      "It's worth noting that due to the overlapping and transparency, it can be a bit subjective to definitively count some shapes.\n"
     ]
    },
    {
     "data": {
      "image/png": "[encoded data removed]",
      "text/plain": [
       "<Figure size 640x480 with 1 Axes>"
      ]
     },
     "metadata": {},
     "output_type": "display_data"
    },
    {
     "name": "stdin",
     "output_type": "stream",
     "text": [
      " 3 hallucinated triangles, 1 hallucinated rectangle\n"
     ]
    },
    {
     "name": "stdout",
     "output_type": "stream",
     "text": [
      "Here's a breakdown of the shapes in the image and their counts:\n",
      "\n",
      "*   **Circles:** 7 (Green, Yellow, Light Blue, Dark Blue, Purple, Black, and a smaller circle within the green one)\n",
      "*   **Triangles:** 1 (Red)\n",
      "*   **Rectangles:** 4 (Yellow, Light Blue, Green, and a smaller rectangle)\n",
      "\n",
      "**Total Shapes:** 12\n"
     ]
    },
    {
     "data": {
      "image/png": "[encoded data removed]",
      "text/plain": [
       "<Figure size 640x480 with 1 Axes>"
      ]
     },
     "metadata": {},
     "output_type": "display_data"
    },
    {
     "name": "stdin",
     "output_type": "stream",
     "text": [
      " 1 hallucinated circle, missed 1 triangle\n"
     ]
    }
   ],
   "source": [
    "for pic in multiple_pics:\n",
    "    responses=new_get_response(pic)\n",
    "    multiple_pics.remove(pic)"
   ]
  },
  {
   "cell_type": "code",
   "execution_count": 255,
   "id": "f6e9582e-d2a2-474e-9789-3e0ed7c01ffc",
   "metadata": {
    "scrolled": true
   },
   "outputs": [
    {
     "data": {
      "text/plain": [
       "['r0_c8_t5.png',\n",
       " 'r4_c7_t4.png',\n",
       " 'r8_c3_t3.png',\n",
       " 'r8_c1_t2.png',\n",
       " '.DS_Store',\n",
       " 'r4_c7_t1.png',\n",
       " 'r1_c4_t6.png',\n",
       " 'r3_c7_t7.png',\n",
       " 'r7_c6_t3.png',\n",
       " 'r7_c6_t2.png',\n",
       " 'r5_c5_t4.png',\n",
       " 'r4_c4_t2.png',\n",
       " 'r4_c6_t4.png',\n",
       " 'r3_c2_t5.png',\n",
       " 'r2_c6_t2.png',\n",
       " 'r3_c0_t4.png',\n",
       " 'r6_c7_t2.png',\n",
       " 'r2_c4_t2.png',\n",
       " 'r4_c4_t5.png',\n",
       " 'r8_c0_t3.png',\n",
       " 'r7_c1_t2.png',\n",
       " 'r0_c3_t4.png',\n",
       " 'r2_c2_t7.png',\n",
       " 'r3_c4_t4.png',\n",
       " 'r5_c8_t3.png',\n",
       " 'r0_c3_t7.png',\n",
       " 'r5_c4_t0.png',\n",
       " 'r2_c2_t5.png',\n",
       " 'r5_c6_t1.png',\n",
       " 'r5_c4_t5.png',\n",
       " 'Used',\n",
       " 'r2_c0_t7.png',\n",
       " 'r8_c4_t4.png',\n",
       " 'r4_c2_t5.png',\n",
       " 'r7_c7_t0.png']"
      ]
     },
     "execution_count": 255,
     "metadata": {},
     "output_type": "execute_result"
    }
   ],
   "source": [
    "data_list = os.listdir(data_dir)\n",
    "data_list"
   ]
  },
  {
   "cell_type": "code",
   "execution_count": 257,
   "id": "0e26c1a5-5c0f-417b-9db0-357e17ea01e3",
   "metadata": {
    "scrolled": true
   },
   "outputs": [
    {
     "data": {
      "text/plain": [
       "['r0_c8_t5.png',\n",
       " 'r4_c7_t4.png',\n",
       " 'r8_c3_t3.png',\n",
       " 'r8_c1_t2.png',\n",
       " 'r4_c7_t1.png',\n",
       " 'r1_c4_t6.png',\n",
       " 'r3_c7_t7.png',\n",
       " 'r7_c6_t3.png',\n",
       " 'r7_c6_t2.png',\n",
       " 'r5_c5_t4.png',\n",
       " 'r4_c4_t2.png',\n",
       " 'r4_c6_t4.png',\n",
       " 'r3_c2_t5.png',\n",
       " 'r2_c6_t2.png',\n",
       " 'r3_c0_t4.png',\n",
       " 'r6_c7_t2.png',\n",
       " 'r2_c4_t2.png',\n",
       " 'r4_c4_t5.png',\n",
       " 'r8_c0_t3.png',\n",
       " 'r7_c1_t2.png',\n",
       " 'r0_c3_t4.png',\n",
       " 'r2_c2_t7.png',\n",
       " 'r3_c4_t4.png',\n",
       " 'r5_c8_t3.png',\n",
       " 'r0_c3_t7.png',\n",
       " 'r5_c4_t0.png',\n",
       " 'r2_c2_t5.png',\n",
       " 'r5_c6_t1.png',\n",
       " 'r5_c4_t5.png',\n",
       " 'r2_c0_t7.png',\n",
       " 'r8_c4_t4.png',\n",
       " 'r4_c2_t5.png',\n",
       " 'r7_c7_t0.png']"
      ]
     },
     "execution_count": 257,
     "metadata": {},
     "output_type": "execute_result"
    }
   ],
   "source": [
    "cleaned_list = []\n",
    "for pic in data_list:\n",
    "    if pic[-4:] == \".png\":\n",
    "        cleaned_list.append(pic)\n",
    "\n",
    "cleaned_list"
   ]
  },
  {
   "cell_type": "code",
   "execution_count": 259,
   "id": "cc8b6e52-0bba-4388-8c72-b6e1c5680cca",
   "metadata": {},
   "outputs": [
    {
     "data": {
      "text/plain": [
       "33"
      ]
     },
     "execution_count": 259,
     "metadata": {},
     "output_type": "execute_result"
    }
   ],
   "source": [
    "len(cleaned_list)"
   ]
  },
  {
   "cell_type": "code",
   "execution_count": 267,
   "id": "7ee350e1-3162-4c1b-83f7-1a2e07734e98",
   "metadata": {},
   "outputs": [
    {
     "name": "stdout",
     "output_type": "stream",
     "text": [
      "r0_c8_t5 \n",
      "\n",
      "Here's a breakdown of the shapes in the image and their counts:\n",
      "\n",
      "*   **Triangles:** 5 (including the large blue triangle and smaller red/purple triangles)\n",
      "*   **Circles:** 7 (various sizes and colors)\n",
      "*   **Rectangles/Parallelograms:** 3 (the dark gray and purple shapes)\n",
      "*   **Lines/Line Segments:** Numerous (difficult to count precisely due to overlapping, but there are many)\n",
      "\n",
      "**Total:** There are at least 15 distinct shapes, but the number of line segments is very high.\n"
     ]
    },
    {
     "data": {
      "image/png": "[encoded data removed]",
      "text/plain": [
       "<Figure size 640x480 with 1 Axes>"
      ]
     },
     "metadata": {},
     "output_type": "display_data"
    },
    {
     "name": "stdin",
     "output_type": "stream",
     "text": [
      " Missed 1 circle, hallucinated 3 rectangles & \"numerous\" lines?\n"
     ]
    },
    {
     "name": "stdout",
     "output_type": "stream",
     "text": [
      "\n",
      "\n",
      "\n",
      "r4_c7_t4 \n",
      "\n",
      "Here's a breakdown of the shapes in the image and their counts:\n",
      "\n",
      "*   **Circles:** 4\n",
      "*   **Triangles:** 6\n",
      "*   **Rectangles/Squares:** 2 (one is a square, the other is a rectangle)\n",
      "\n",
      "So, in total, there are **12** shapes in the image.\n"
     ]
    },
    {
     "data": {
      "image/png": "[encoded data removed]",
      "text/plain": [
       "<Figure size 640x480 with 1 Axes>"
      ]
     },
     "metadata": {},
     "output_type": "display_data"
    },
    {
     "name": "stdin",
     "output_type": "stream",
     "text": [
      " missed 2 rectangles & 3 circles, hallucinated 2 triangles\n"
     ]
    },
    {
     "name": "stdout",
     "output_type": "stream",
     "text": [
      "\n",
      "\n",
      "\n",
      "r8_c3_t3 \n",
      "\n",
      "Here's a breakdown of the shapes in the image and their counts:\n",
      "\n",
      "*   **Triangles:** 3\n",
      "*   **Circles:** 3\n",
      "*   **Rectangles:** 5\n",
      "\n",
      "So, in total, there are **11** shapes in the image.\n"
     ]
    },
    {
     "data": {
      "image/png": "[encoded data removed]",
      "text/plain": [
       "<Figure size 640x480 with 1 Axes>"
      ]
     },
     "metadata": {},
     "output_type": "display_data"
    },
    {
     "name": "stdin",
     "output_type": "stream",
     "text": [
      " Missed 3 rectangles\n"
     ]
    },
    {
     "name": "stdout",
     "output_type": "stream",
     "text": [
      "\n",
      "\n",
      "\n",
      "r8_c1_t2 \n",
      "\n",
      "Here's a breakdown of the shapes in the image and their counts:\n",
      "\n",
      "*   **Rectangles:** 6\n",
      "*   **Triangles:** 2\n",
      "*   **Circles:** 1\n",
      "*   **Lines:** 1\n",
      "\n",
      "**Total Shapes:** 10\n"
     ]
    },
    {
     "data": {
      "image/png": "[encoded data removed]",
      "text/plain": [
       "<Figure size 640x480 with 1 Axes>"
      ]
     },
     "metadata": {},
     "output_type": "display_data"
    },
    {
     "name": "stdin",
     "output_type": "stream",
     "text": [
      " Missed 2 rectangles, hallucinated \"line\" \n"
     ]
    },
    {
     "name": "stdout",
     "output_type": "stream",
     "text": [
      "\n",
      "\n",
      "\n",
      "r4_c7_t1 \n",
      "\n",
      "Here's a breakdown of the shapes in the image and their counts:\n",
      "\n",
      "*   **Circles:** 6\n",
      "*   **Triangles:** 1\n",
      "*   **Squares/Rectangles:** 4\n",
      "\n",
      "So, in total, there are **11** shapes in the image.\n"
     ]
    },
    {
     "data": {
      "image/png": "[encoded data removed]",
      "text/plain": [
       "<Figure size 640x480 with 1 Axes>"
      ]
     },
     "metadata": {},
     "output_type": "display_data"
    },
    {
     "name": "stdin",
     "output_type": "stream",
     "text": [
      " Missed 1 circle\n"
     ]
    },
    {
     "name": "stdout",
     "output_type": "stream",
     "text": [
      "\n",
      "\n",
      "\n"
     ]
    }
   ],
   "source": [
    "for pic in cleaned_list[:5]:\n",
    "    print(pic[:-4],\"\\n\")\n",
    "    try:\n",
    "        responses=new_get_response(pic)\n",
    "    except FileNotFoundError:\n",
    "        pass\n",
    "    print(\"\\n\\n\")"
   ]
  },
  {
   "cell_type": "code",
   "execution_count": 281,
   "id": "327b7ea0-57ce-4995-80e3-af256e01d455",
   "metadata": {},
   "outputs": [],
   "source": [
    "responses.loc[20,\"notes\"] = \"Missed 3 rectangles; b&w\""
   ]
  },
  {
   "cell_type": "code",
   "execution_count": 283,
   "id": "3983e958-8314-474e-bffc-59df50d223cc",
   "metadata": {},
   "outputs": [
    {
     "data": {
      "text/html": [
       "<div>\n",
       "<style scoped>\n",
       "    .dataframe tbody tr th:only-of-type {\n",
       "        vertical-align: middle;\n",
       "    }\n",
       "\n",
       "    .dataframe tbody tr th {\n",
       "        vertical-align: top;\n",
       "    }\n",
       "\n",
       "    .dataframe thead th {\n",
       "        text-align: right;\n",
       "    }\n",
       "</style>\n",
       "<table border=\"1\" class=\"dataframe\">\n",
       "  <thead>\n",
       "    <tr style=\"text-align: right;\">\n",
       "      <th></th>\n",
       "      <th>pic_id</th>\n",
       "      <th>response</th>\n",
       "      <th>score</th>\n",
       "      <th>raw</th>\n",
       "      <th>notes</th>\n",
       "    </tr>\n",
       "  </thead>\n",
       "  <tbody>\n",
       "    <tr>\n",
       "      <th>18</th>\n",
       "      <td>r0_c8_t5</td>\n",
       "      <td>Here's a breakdown of the shapes in the image ...</td>\n",
       "      <td>None</td>\n",
       "      <td>None</td>\n",
       "      <td>Missed 1 circle, hallucinated 3 rectangles &amp; \"...</td>\n",
       "    </tr>\n",
       "    <tr>\n",
       "      <th>19</th>\n",
       "      <td>r4_c7_t4</td>\n",
       "      <td>Here's a breakdown of the shapes in the image ...</td>\n",
       "      <td>None</td>\n",
       "      <td>None</td>\n",
       "      <td>missed 2 rectangles &amp; 3 circles, hallucinated ...</td>\n",
       "    </tr>\n",
       "    <tr>\n",
       "      <th>20</th>\n",
       "      <td>r8_c3_t3</td>\n",
       "      <td>Here's a breakdown of the shapes in the image ...</td>\n",
       "      <td>None</td>\n",
       "      <td>None</td>\n",
       "      <td>Missed 3 rectangles; b&amp;w</td>\n",
       "    </tr>\n",
       "    <tr>\n",
       "      <th>21</th>\n",
       "      <td>r8_c1_t2</td>\n",
       "      <td>Here's a breakdown of the shapes in the image ...</td>\n",
       "      <td>None</td>\n",
       "      <td>None</td>\n",
       "      <td>Missed 2 rectangles, hallucinated \"line\"</td>\n",
       "    </tr>\n",
       "    <tr>\n",
       "      <th>22</th>\n",
       "      <td>r4_c7_t1</td>\n",
       "      <td>Here's a breakdown of the shapes in the image ...</td>\n",
       "      <td>None</td>\n",
       "      <td>None</td>\n",
       "      <td>Missed 1 circle</td>\n",
       "    </tr>\n",
       "  </tbody>\n",
       "</table>\n",
       "</div>"
      ],
      "text/plain": [
       "      pic_id                                           response score   raw  \\\n",
       "18  r0_c8_t5  Here's a breakdown of the shapes in the image ...  None  None   \n",
       "19  r4_c7_t4  Here's a breakdown of the shapes in the image ...  None  None   \n",
       "20  r8_c3_t3  Here's a breakdown of the shapes in the image ...  None  None   \n",
       "21  r8_c1_t2  Here's a breakdown of the shapes in the image ...  None  None   \n",
       "22  r4_c7_t1  Here's a breakdown of the shapes in the image ...  None  None   \n",
       "\n",
       "                                                notes  \n",
       "18  Missed 1 circle, hallucinated 3 rectangles & \"...  \n",
       "19  missed 2 rectangles & 3 circles, hallucinated ...  \n",
       "20                           Missed 3 rectangles; b&w  \n",
       "21          Missed 2 rectangles, hallucinated \"line\"   \n",
       "22                                    Missed 1 circle  "
      ]
     },
     "execution_count": 283,
     "metadata": {},
     "output_type": "execute_result"
    }
   ],
   "source": [
    "responses.tail()"
   ]
  },
  {
   "cell_type": "code",
   "execution_count": 277,
   "id": "1eef79a2-8688-4ae1-b7a3-5d42b1539026",
   "metadata": {},
   "outputs": [],
   "source": [
    "df=responses.copy()"
   ]
  },
  {
   "cell_type": "code",
   "execution_count": 285,
   "id": "dccec573-de53-4faf-bb48-56cb41989a74",
   "metadata": {},
   "outputs": [
    {
     "data": {
      "text/html": [
       "<div>\n",
       "<style scoped>\n",
       "    .dataframe tbody tr th:only-of-type {\n",
       "        vertical-align: middle;\n",
       "    }\n",
       "\n",
       "    .dataframe tbody tr th {\n",
       "        vertical-align: top;\n",
       "    }\n",
       "\n",
       "    .dataframe thead th {\n",
       "        text-align: right;\n",
       "    }\n",
       "</style>\n",
       "<table border=\"1\" class=\"dataframe\">\n",
       "  <thead>\n",
       "    <tr style=\"text-align: right;\">\n",
       "      <th></th>\n",
       "      <th>pic_id</th>\n",
       "      <th>response</th>\n",
       "      <th>score</th>\n",
       "      <th>raw</th>\n",
       "      <th>notes</th>\n",
       "    </tr>\n",
       "  </thead>\n",
       "  <tbody>\n",
       "    <tr>\n",
       "      <th>0</th>\n",
       "      <td>Format</td>\n",
       "      <td>LLM given response</td>\n",
       "      <td>calculated score of LLM's response</td>\n",
       "      <td>list of tuples (response,true); ordered [rect,...</td>\n",
       "      <td>notes</td>\n",
       "    </tr>\n",
       "    <tr>\n",
       "      <th>1</th>\n",
       "      <td>test</td>\n",
       "      <td>Here's a breakdown of the shapes in the image:...</td>\n",
       "      <td>1</td>\n",
       "      <td>[(1, 1), (3, 3), (0, 0)]</td>\n",
       "      <td>1 rectangle, 3 circles; probably too simple co...</td>\n",
       "    </tr>\n",
       "    <tr>\n",
       "      <th>2</th>\n",
       "      <td>test2</td>\n",
       "      <td>Here's a breakdown of the shapes in the image ...</td>\n",
       "      <td>0.8111</td>\n",
       "      <td>[(6, 5), (4, 4), (3, 5)]</td>\n",
       "      <td>5 rectangles, 4 circles, 5 triangles; hallucin...</td>\n",
       "    </tr>\n",
       "    <tr>\n",
       "      <th>3</th>\n",
       "      <td>r3_c5_t2</td>\n",
       "      <td>Here's a breakdown of the shapes in the image ...</td>\n",
       "      <td>0.9333</td>\n",
       "      <td>[(3, 3), (4, 5), (2, 2)]</td>\n",
       "      <td>Incorrect triangle color, Missed a circle, Inc...</td>\n",
       "    </tr>\n",
       "    <tr>\n",
       "      <th>4</th>\n",
       "      <td>r0_c1_t5</td>\n",
       "      <td>Here's a breakdown of the shapes in the image ...</td>\n",
       "      <td>0.8125</td>\n",
       "      <td>[(0, 0), (1, 1), (8, 5)]</td>\n",
       "      <td>May be counting subsections created by overlap...</td>\n",
       "    </tr>\n",
       "  </tbody>\n",
       "</table>\n",
       "</div>"
      ],
      "text/plain": [
       "     pic_id                                           response  \\\n",
       "0    Format                                 LLM given response   \n",
       "1      test  Here's a breakdown of the shapes in the image:...   \n",
       "2     test2  Here's a breakdown of the shapes in the image ...   \n",
       "3  r3_c5_t2  Here's a breakdown of the shapes in the image ...   \n",
       "4  r0_c1_t5  Here's a breakdown of the shapes in the image ...   \n",
       "\n",
       "                                score  \\\n",
       "0  calculated score of LLM's response   \n",
       "1                                   1   \n",
       "2                              0.8111   \n",
       "3                              0.9333   \n",
       "4                              0.8125   \n",
       "\n",
       "                                                 raw  \\\n",
       "0  list of tuples (response,true); ordered [rect,...   \n",
       "1                           [(1, 1), (3, 3), (0, 0)]   \n",
       "2                           [(6, 5), (4, 4), (3, 5)]   \n",
       "3                           [(3, 3), (4, 5), (2, 2)]   \n",
       "4                           [(0, 0), (1, 1), (8, 5)]   \n",
       "\n",
       "                                               notes  \n",
       "0                                              notes  \n",
       "1  1 rectangle, 3 circles; probably too simple co...  \n",
       "2  5 rectangles, 4 circles, 5 triangles; hallucin...  \n",
       "3  Incorrect triangle color, Missed a circle, Inc...  \n",
       "4  May be counting subsections created by overlap...  "
      ]
     },
     "execution_count": 285,
     "metadata": {},
     "output_type": "execute_result"
    }
   ],
   "source": [
    "df.head()"
   ]
  }
 ],
 "metadata": {
  "kernelspec": {
   "display_name": "Python 3 (ipykernel)",
   "language": "python",
   "name": "python3"
  },
  "language_info": {
   "codemirror_mode": {
    "name": "ipython",
    "version": 3
   },
   "file_extension": ".py",
   "mimetype": "text/x-python",
   "name": "python",
   "nbconvert_exporter": "python",
   "pygments_lexer": "ipython3",
   "version": "3.12.4"
  }
 },
 "nbformat": 4,
 "nbformat_minor": 5
}
